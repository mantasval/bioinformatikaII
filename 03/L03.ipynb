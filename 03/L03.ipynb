{
 "cells": [
  {
   "cell_type": "code",
   "execution_count": 1,
   "metadata": {
    "id": "jtlq37FxSktv",
    "scrolled": true
   },
   "outputs": [
    {
     "name": "stdout",
     "output_type": "stream",
     "text": [
      "Defaulting to user installation because normal site-packages is not writeable\n",
      "Requirement already satisfied: biopython in c:\\users\\manta\\appdata\\roaming\\python\\python39\\site-packages (1.81)\n",
      "Requirement already satisfied: numpy in c:\\programdata\\anaconda3\\lib\\site-packages (from biopython) (1.21.5)\n",
      "Defaulting to user installation because normal site-packages is not writeable\n",
      "Requirement already satisfied: matplotlib in c:\\programdata\\anaconda3\\lib\\site-packages (3.5.2)\n",
      "Requirement already satisfied: kiwisolver>=1.0.1 in c:\\programdata\\anaconda3\\lib\\site-packages (from matplotlib) (1.4.2)\n",
      "Requirement already satisfied: fonttools>=4.22.0 in c:\\programdata\\anaconda3\\lib\\site-packages (from matplotlib) (4.25.0)\n",
      "Requirement already satisfied: cycler>=0.10 in c:\\programdata\\anaconda3\\lib\\site-packages (from matplotlib) (0.11.0)\n",
      "Requirement already satisfied: numpy>=1.17 in c:\\programdata\\anaconda3\\lib\\site-packages (from matplotlib) (1.21.5)\n",
      "Requirement already satisfied: pillow>=6.2.0 in c:\\programdata\\anaconda3\\lib\\site-packages (from matplotlib) (9.2.0)\n",
      "Requirement already satisfied: pyparsing>=2.2.1 in c:\\programdata\\anaconda3\\lib\\site-packages (from matplotlib) (3.0.9)\n",
      "Requirement already satisfied: packaging>=20.0 in c:\\programdata\\anaconda3\\lib\\site-packages (from matplotlib) (21.3)\n",
      "Requirement already satisfied: python-dateutil>=2.7 in c:\\programdata\\anaconda3\\lib\\site-packages (from matplotlib) (2.8.2)\n",
      "Requirement already satisfied: six>=1.5 in c:\\programdata\\anaconda3\\lib\\site-packages (from python-dateutil>=2.7->matplotlib) (1.16.0)\n"
     ]
    }
   ],
   "source": [
    "!pip install biopython;\n",
    "!pip install matplotlib;"
   ]
  },
  {
   "cell_type": "code",
   "execution_count": 2,
   "metadata": {
    "id": "WDCM65XiS0gv"
   },
   "outputs": [],
   "source": [
    "from Bio import Entrez, SeqIO\n",
    "from Bio.Align import PairwiseAligner\n",
    "import numpy as np\n",
    "import pandas as pd\n",
    "import random\n",
    "import matplotlib.pyplot as plt\n",
    "import seaborn as sns"
   ]
  },
  {
   "cell_type": "markdown",
   "metadata": {
    "id": "hqw0ujQkS6Yn"
   },
   "source": [
    "# 1 Dalis"
   ]
  },
  {
   "cell_type": "markdown",
   "metadata": {
    "id": "-8otXaCTDmvK"
   },
   "source": [
    "Iš paieškos sąrašo: https://www.ncbi.nlm.nih.gov/nuccore?term=33175%5BBioProject%5D+OR+33317%5BBioProject%5D  sekų prieigos ID yra išsaugotos 'sequence.seq' faile.\n",
    "Iš failo pasirenkama dvidešimt 16S sekų ID.\n"
   ]
  },
  {
   "cell_type": "code",
   "execution_count": 3,
   "metadata": {
    "id": "PqFe10pGS3lg"
   },
   "outputs": [],
   "source": [
    "NUMBER_OF_SEQUENCES = 20\n",
    "\n",
    "sequence_ids = []\n",
    "with open('sequence.seq') as f:\n",
    "  sequence_ids = f.readlines()\n",
    "  sequence_ids = sequence_ids[:NUMBER_OF_SEQUENCES]\n"
   ]
  },
  {
   "cell_type": "markdown",
   "metadata": {
    "id": "uSS31OJmEfqi"
   },
   "source": [
    "Pagal ID sekos yra gaunamos fasta formatu."
   ]
  },
  {
   "cell_type": "code",
   "execution_count": 4,
   "metadata": {
    "id": "lGVsYL90X9pP"
   },
   "outputs": [
    {
     "name": "stderr",
     "output_type": "stream",
     "text": [
      "C:\\Users\\manta\\AppData\\Roaming\\Python\\Python39\\site-packages\\Bio\\Entrez\\__init__.py:694: UserWarning: \n",
      "            Email address is not specified.\n",
      "\n",
      "            To make use of NCBI's E-utilities, NCBI requires you to specify your\n",
      "            email address with each request.  As an example, if your email address\n",
      "            is A.N.Other@example.com, you can specify it as follows:\n",
      "               from Bio import Entrez\n",
      "               Entrez.email = 'A.N.Other@example.com'\n",
      "            In case of excessive usage of the E-utilities, NCBI will attempt to contact\n",
      "            a user at the email address provided before blocking access to the\n",
      "            E-utilities.\n",
      "  warnings.warn(\n"
     ]
    }
   ],
   "source": [
    "sequences = []\n",
    "for seq_id in sequence_ids:\n",
    "    handle = Entrez.efetch(db=\"nucleotide\", id=seq_id, rettype=\"fasta\", retmode=\"text\")\n",
    "    record = SeqIO.read(handle, \"fasta\")\n",
    "    sequences.append(record);"
   ]
  },
  {
   "cell_type": "code",
   "execution_count": 5,
   "metadata": {},
   "outputs": [
    {
     "name": "stdout",
     "output_type": "stream",
     "text": [
      "1539\n"
     ]
    }
   ],
   "source": [
    "max_len = 0\n",
    "for sequence in sequences:\n",
    "    if len(sequence) >= max_len:\n",
    "        max_len = len(sequence)\n",
    "print(max_len)"
   ]
  },
  {
   "cell_type": "markdown",
   "metadata": {
    "id": "iR15ZCJnEo0b"
   },
   "source": [
    "Gaunami globalūs poriniai išlyginimai."
   ]
  },
  {
   "cell_type": "code",
   "execution_count": 6,
   "metadata": {
    "id": "l1-kmrX9dl-r"
   },
   "outputs": [],
   "source": [
    "aligner = PairwiseAligner()\n",
    "aligner.mode = 'global'\n",
    "alignment_table = np.empty((20, 20),dtype='int')\n",
    "for i in range(NUMBER_OF_SEQUENCES):\n",
    "    for j in range(i, NUMBER_OF_SEQUENCES):\n",
    "        alignment_score = aligner.score(sequences[i], sequences[j])\n",
    "        alignment_table[i][j] = alignment_score\n",
    "        alignment_table[j][i] = alignment_score\n"
   ]
  },
  {
   "cell_type": "markdown",
   "metadata": {
    "id": "Ni2tlkIXE1PG"
   },
   "source": [
    "Sukuriama lentelė su sekų eilės numeriais ir atitinkamomis išlyginimo kainomis."
   ]
  },
  {
   "cell_type": "code",
   "execution_count": 14,
   "metadata": {
    "id": "141R2ieDdxnD"
   },
   "outputs": [],
   "source": [
    "row_col_names = [\"Seka \" + str(i + 1) for i in range(NUMBER_OF_SEQUENCES)]\n",
    "df = pd.DataFrame(alignment_table,index = row_col_names, columns=row_col_names)"
   ]
  },
  {
   "cell_type": "code",
   "execution_count": 8,
   "metadata": {},
   "outputs": [
    {
     "name": "stdout",
     "output_type": "stream",
     "text": [
      "1539\n"
     ]
    }
   ],
   "source": [
    "max_value = df.max().max()\n",
    "print(max_value)"
   ]
  },
  {
   "cell_type": "code",
   "execution_count": 31,
   "metadata": {},
   "outputs": [],
   "source": [
    "df_normalized = (df-df.mean())/df.std()"
   ]
  },
  {
   "cell_type": "markdown",
   "metadata": {
    "id": "H4emeQ3sFM36"
   },
   "source": [
    "Atspausdinama lentelė"
   ]
  },
  {
   "cell_type": "code",
   "execution_count": 10,
   "metadata": {
    "colab": {
     "base_uri": "https://localhost:8080/"
    },
    "id": "L1jFul6Hd_-_",
    "outputId": "74c78d81-624a-457b-b40f-ea42692af7be"
   },
   "outputs": [
    {
     "name": "stdout",
     "output_type": "stream",
     "text": [
      "         Seka 1  Seka 2  Seka 3  Seka 4  Seka 5  Seka 6  Seka 7  Seka 8  \\\n",
      "Seka 1     1414    1159    1115    1125    1106     893    1148    1146   \n",
      "Seka 2     1159    1475    1228    1243    1209     963    1324    1360   \n",
      "Seka 3     1115    1228    1355    1222    1238     970    1233    1219   \n",
      "Seka 4     1125    1243    1222    1344    1225     987    1261    1240   \n",
      "Seka 5     1106    1209    1238    1225    1342     981    1238    1204   \n",
      "Seka 6      893     963     970     987     981    1045    1045     970   \n",
      "Seka 7     1148    1324    1233    1261    1238    1045    1466    1349   \n",
      "Seka 8     1146    1360    1219    1240    1204     970    1349    1485   \n",
      "Seka 9     1145    1359    1218    1239    1203     970    1349    1482   \n",
      "Seka 10     904    1037     978     960     969     944    1030    1049   \n",
      "Seka 11     907    1038     981     962     967     946    1033    1070   \n",
      "Seka 12     899    1031     973     953     958     937    1025    1061   \n",
      "Seka 13    1159    1348    1248    1267    1232     982    1364    1351   \n",
      "Seka 14    1141    1316    1230    1235    1203     964    1284    1293   \n",
      "Seka 15    1086    1171    1161    1168    1145     928    1165    1164   \n",
      "Seka 16    1162    1364    1229    1249    1215     968    1347    1361   \n",
      "Seka 17    1161    1361    1227    1247    1214     968    1345    1357   \n",
      "Seka 18    1167    1346    1252    1319    1264     994    1380    1352   \n",
      "Seka 19    1147    1316    1259    1263    1313     987    1353    1327   \n",
      "Seka 20    1142    1314    1256    1265    1314     986    1350    1323   \n",
      "\n",
      "         Seka 9  Seka 10  Seka 11  Seka 12  Seka 13  Seka 14  Seka 15  \\\n",
      "Seka 1     1145      904      907      899     1159     1141     1086   \n",
      "Seka 2     1359     1037     1038     1031     1348     1316     1171   \n",
      "Seka 3     1218      978      981      973     1248     1230     1161   \n",
      "Seka 4     1239      960      962      953     1267     1235     1168   \n",
      "Seka 5     1203      969      967      958     1232     1203     1145   \n",
      "Seka 6      970      944      946      937      982      964      928   \n",
      "Seka 7     1349     1030     1033     1025     1364     1284     1165   \n",
      "Seka 8     1482     1049     1070     1061     1351     1293     1164   \n",
      "Seka 9     1484     1048     1069     1060     1350     1292     1164   \n",
      "Seka 10    1048     1122     1051     1042     1037      993      919   \n",
      "Seka 11    1069     1051     1120     1109     1045      985      917   \n",
      "Seka 12    1060     1042     1109     1110     1040      978      907   \n",
      "Seka 13    1350     1037     1045     1040     1539     1306     1173   \n",
      "Seka 14    1292      993      985      978     1306     1442     1184   \n",
      "Seka 15    1164      919      917      907     1173     1184     1297   \n",
      "Seka 16    1360     1045     1047     1040     1353     1311     1180   \n",
      "Seka 17    1356     1045     1046     1039     1351     1309     1179   \n",
      "Seka 18    1351     1034     1041     1034     1425     1305     1165   \n",
      "Seka 19    1326     1024     1017     1010     1373     1281     1160   \n",
      "Seka 20    1322     1025     1019     1011     1377     1276     1157   \n",
      "\n",
      "         Seka 16  Seka 17  Seka 18  Seka 19  Seka 20  \n",
      "Seka 1      1162     1161     1167     1147     1142  \n",
      "Seka 2      1364     1361     1346     1316     1314  \n",
      "Seka 3      1229     1227     1252     1259     1256  \n",
      "Seka 4      1249     1247     1319     1263     1265  \n",
      "Seka 5      1215     1214     1264     1313     1314  \n",
      "Seka 6       968      968      994      987      986  \n",
      "Seka 7      1347     1345     1380     1353     1350  \n",
      "Seka 8      1361     1357     1352     1327     1323  \n",
      "Seka 9      1360     1356     1351     1326     1322  \n",
      "Seka 10     1045     1045     1034     1024     1025  \n",
      "Seka 11     1047     1046     1041     1017     1019  \n",
      "Seka 12     1040     1039     1034     1010     1011  \n",
      "Seka 13     1353     1351     1425     1373     1377  \n",
      "Seka 14     1311     1309     1305     1281     1276  \n",
      "Seka 15     1180     1179     1165     1160     1157  \n",
      "Seka 16     1496     1492     1362     1326     1325  \n",
      "Seka 17     1492     1494     1359     1323     1322  \n",
      "Seka 18     1362     1359     1500     1400     1402  \n",
      "Seka 19     1326     1323     1400     1500     1476  \n",
      "Seka 20     1325     1322     1402     1476     1500  \n"
     ]
    }
   ],
   "source": [
    "print(df)"
   ]
  },
  {
   "cell_type": "code",
   "execution_count": 11,
   "metadata": {},
   "outputs": [
    {
     "data": {
      "image/png": "[encoded data removed]",
      "text/plain": [
       "<Figure size 640x480 with 2 Axes>"
      ]
     },
     "metadata": {},
     "output_type": "display_data"
    }
   ],
   "source": [
    "sns.heatmap(df, annot=False);"
   ]
  },
  {
   "cell_type": "code",
   "execution_count": 29,
   "metadata": {},
   "outputs": [
    {
     "data": {
      "image/png": "[encoded data removed]",
      "text/plain": [
       "<Figure size 640x480 with 2 Axes>"
      ]
     },
     "metadata": {},
     "output_type": "display_data"
    }
   ],
   "source": [
    "sns.heatmap(df_normalized,annot=False);"
   ]
  },
  {
   "cell_type": "markdown",
   "metadata": {
    "id": "PXbl1s1tTNU0"
   },
   "source": [
    "# 2 Dalis"
   ]
  },
  {
   "cell_type": "markdown",
   "metadata": {
    "id": "Z_fTTnZ2FWHZ"
   },
   "source": [
    "Užduočiai pasirinktas ***Halopiger xanaduensis*** archėjos genomas, kurio ID: NC_012654.1. Genomo seka atsisiunčiama."
   ]
  },
  {
   "cell_type": "code",
   "execution_count": 18,
   "metadata": {
    "id": "sDYX1meUa0PF"
   },
   "outputs": [
    {
     "name": "stderr",
     "output_type": "stream",
     "text": [
      "C:\\Users\\manta\\AppData\\Roaming\\Python\\Python39\\site-packages\\Bio\\Entrez\\__init__.py:694: UserWarning: \n",
      "            Email address is not specified.\n",
      "\n",
      "            To make use of NCBI's E-utilities, NCBI requires you to specify your\n",
      "            email address with each request.  As an example, if your email address\n",
      "            is A.N.Other@example.com, you can specify it as follows:\n",
      "               from Bio import Entrez\n",
      "               Entrez.email = 'A.N.Other@example.com'\n",
      "            In case of excessive usage of the E-utilities, NCBI will attempt to contact\n",
      "            a user at the email address provided before blocking access to the\n",
      "            E-utilities.\n",
      "  warnings.warn(\n"
     ]
    }
   ],
   "source": [
    "genome_id = \"NC_012654.1\"\n",
    "handle = Entrez.efetch(db=\"nucleotide\", id=genome_id, rettype=\"fasta\", retmode=\"text\")\n",
    "genome = SeqIO.read(handle, \"fasta\");"
   ]
  },
  {
   "cell_type": "code",
   "execution_count": 19,
   "metadata": {},
   "outputs": [],
   "source": [
    "SeqIO.write(genome, \"genome.fasta\", \"fasta\");"
   ]
  },
  {
   "cell_type": "code",
   "execution_count": 20,
   "metadata": {
    "colab": {
     "base_uri": "https://localhost:8080/"
    },
    "id": "tqQaJpQKbYlS",
    "outputId": "e3d1fffb-29c9-4d12-da3d-c196cd8f24b7"
   },
   "outputs": [
    {
     "name": "stdout",
     "output_type": "stream",
     "text": [
      "270022\n"
     ]
    }
   ],
   "source": [
    "genome_lenght = len(genome.seq)\n",
    "T_lenght = 2000\n",
    "print(genome_lenght)"
   ]
  },
  {
   "cell_type": "markdown",
   "metadata": {
    "id": "HM7X4vxUGcH3"
   },
   "source": [
    "Iš genomo atsitiktinai iškerpamas 2000 bp ilgio fragmentas **T**."
   ]
  },
  {
   "cell_type": "code",
   "execution_count": 21,
   "metadata": {
    "id": "NblGgkKCdcJO"
   },
   "outputs": [],
   "source": [
    "cut_index = random.randint(0,genome_lenght - 2001)\n",
    "\n",
    "T = genome[cut_index:cut_index + 2000]\n",
    "genome_without_T = genome[:cut_index] + genome[cut_index + 2000:]\n",
    "\n",
    "assert(len(genome) == len(T) + len(genome_without_T) and len(T) == 2000)"
   ]
  },
  {
   "cell_type": "code",
   "execution_count": null,
   "metadata": {},
   "outputs": [],
   "source": []
  },
  {
   "cell_type": "code",
   "execution_count": 22,
   "metadata": {},
   "outputs": [
    {
     "name": "stdout",
     "output_type": "stream",
     "text": [
      "['BENNER22', 'BENNER6', 'BENNER74', 'BLASTN', 'BLASTP', 'BLOSUM45', 'BLOSUM50', 'BLOSUM62', 'BLOSUM80', 'BLOSUM90', 'DAYHOFF', 'FENG', 'GENETIC', 'GONNET1992', 'HOXD70', 'JOHNSON', 'JONES', 'LEVIN', 'MCLACHLAN', 'MDM78', 'MEGABLAST', 'NUC.4.4', 'PAM250', 'PAM30', 'PAM70', 'RAO', 'RISLER', 'SCHNEIDER', 'STR', 'TRANS']\n",
      "#  David Wheeler,\n",
      "#  Department of Cell Biology, Baylor College of Medicine, Houston, Texas:\n",
      "#  \"Weight matrices for sequence similarity scoring.\"\n",
      "#  Version 2.0, May 1996.\n",
      "#  David Wheeler defined the Transition/Transversion Matrix as a penalty\n",
      "#  matrix; the matrix below is a similarity matrix where\n",
      "#  similarity = 5 - penalty.\n",
      "    A   T   C   G\n",
      "A 5.0 0.0 0.0 4.0\n",
      "T 0.0 5.0 4.0 0.0\n",
      "C 0.0 4.0 5.0 0.0\n",
      "G 4.0 0.0 0.0 5.0\n",
      "\n"
     ]
    }
   ],
   "source": [
    "from Bio.Align import substitution_matrices\n",
    "matrix_list = substitution_matrices.load()\n",
    "print(matrix_list)\n",
    "print(substitution_matrices.load('TRANS'))"
   ]
  },
  {
   "cell_type": "code",
   "execution_count": 23,
   "metadata": {
    "id": "mCYZQqT3_slF"
   },
   "outputs": [],
   "source": [
    "aligner = PairwiseAligner()\n",
    "aligner.mode = 'local'\n",
    "aligner.substitution_matrix = substitution_matrices.load('TRANS') - 4\n",
    "aligner.gap_score = -2"
   ]
  },
  {
   "cell_type": "markdown",
   "metadata": {
    "id": "zQox4JZOGjwB"
   },
   "source": [
    "Iš likusio genomo 10_000 kartų atsitiktinai parenkami 100 bp fragmentai, ir atliekami lokalūs išlyginimai su **T**."
   ]
  },
  {
   "cell_type": "code",
   "execution_count": null,
   "metadata": {
    "id": "30j1CCamyqVe"
   },
   "outputs": [],
   "source": [
    "alignment_scores = np.empty((10000),dtype='int')\n",
    "genome_without_T_lenght  = len(genome_without_T)\n",
    "\n",
    "max_score = 0\n",
    "for i in range(10000):\n",
    "  fragment_index = random.randint(0,genome_without_T_lenght - 101)\n",
    "  fragment = genome_without_T[fragment_index:fragment_index + 100]\n",
    "  score = aligner.score(fragment,T)\n",
    "  alignment_scores[i] = score\n",
    "  if (score >= max_score):\n",
    "    max_score = score\n",
    "    best_fragment = fragment"
   ]
  },
  {
   "cell_type": "code",
   "execution_count": null,
   "metadata": {},
   "outputs": [],
   "source": [
    "alignments = aligner.align(best_fragment,T)\n",
    "print(alignments[0])\n",
    "print(max_score)\n",
    "print(alignments[0].score)"
   ]
  },
  {
   "cell_type": "markdown",
   "metadata": {
    "id": "XY-vk4sSHTjm"
   },
   "source": [
    "Pavaizduojama išlyginimų kainų histograma"
   ]
  },
  {
   "cell_type": "code",
   "execution_count": null,
   "metadata": {
    "colab": {
     "base_uri": "https://localhost:8080/",
     "height": 472
    },
    "id": "YIN-i2JL_MwY",
    "outputId": "607fe5b7-7c84-4b3c-c432-b5f711576892"
   },
   "outputs": [],
   "source": [
    "plt.hist(alignment_scores, edgecolor='black')\n",
    "plt.xlabel('Alignment Score')\n",
    "plt.ylabel('Frequency')\n",
    "plt.title('Local Alignment Scores')\n",
    "plt.show()"
   ]
  }
 ],
 "metadata": {
  "colab": {
   "provenance": []
  },
  "kernelspec": {
   "display_name": "Python 3 (ipykernel)",
   "language": "python",
   "name": "python3"
  },
  "language_info": {
   "codemirror_mode": {
    "name": "ipython",
    "version": 3
   },
   "file_extension": ".py",
   "mimetype": "text/x-python",
   "name": "python",
   "nbconvert_exporter": "python",
   "pygments_lexer": "ipython3",
   "version": "3.9.13"
  }
 },
 "nbformat": 4,
 "nbformat_minor": 1
}
