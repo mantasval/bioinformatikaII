{
 "cells": [
  {
   "cell_type": "code",
   "execution_count": 2,
   "metadata": {
    "id": "jtlq37FxSktv"
   },
   "outputs": [
    {
     "name": "stdout",
     "output_type": "stream",
     "text": [
      "Collecting biopython\n",
      "  Downloading biopython-1.81-cp311-cp311-win_amd64.whl (2.7 MB)\n",
      "     ---------------------------------------- 0.0/2.7 MB ? eta -:--:--\n",
      "     ---------------------------------------- 0.0/2.7 MB ? eta -:--:--\n",
      "      --------------------------------------- 0.0/2.7 MB 393.8 kB/s eta 0:00:07\n",
      "     - -------------------------------------- 0.1/2.7 MB 655.4 kB/s eta 0:00:05\n",
      "     ---- ----------------------------------- 0.3/2.7 MB 1.6 MB/s eta 0:00:02\n",
      "     ---------- ----------------------------- 0.7/2.7 MB 3.3 MB/s eta 0:00:01\n",
      "     ------------------------ --------------- 1.7/2.7 MB 6.2 MB/s eta 0:00:01\n",
      "     ---------------------------------------  2.7/2.7 MB 8.6 MB/s eta 0:00:01\n",
      "     ---------------------------------------- 2.7/2.7 MB 8.3 MB/s eta 0:00:00\n",
      "Requirement already satisfied: numpy in c:\\users\\manta\\.conda\\envs\\r\\lib\\site-packages (from biopython) (1.26.1)\n",
      "Installing collected packages: biopython\n",
      "Successfully installed biopython-1.81\n",
      "Requirement already satisfied: matplotlib in c:\\users\\manta\\.conda\\envs\\r\\lib\\site-packages (3.8.0)\n",
      "Requirement already satisfied: contourpy>=1.0.1 in c:\\users\\manta\\.conda\\envs\\r\\lib\\site-packages (from matplotlib) (1.1.1)\n",
      "Requirement already satisfied: cycler>=0.10 in c:\\users\\manta\\.conda\\envs\\r\\lib\\site-packages (from matplotlib) (0.12.1)\n",
      "Requirement already satisfied: fonttools>=4.22.0 in c:\\users\\manta\\.conda\\envs\\r\\lib\\site-packages (from matplotlib) (4.43.1)\n",
      "Requirement already satisfied: kiwisolver>=1.0.1 in c:\\users\\manta\\.conda\\envs\\r\\lib\\site-packages (from matplotlib) (1.4.5)\n",
      "Requirement already satisfied: numpy<2,>=1.21 in c:\\users\\manta\\.conda\\envs\\r\\lib\\site-packages (from matplotlib) (1.26.1)\n",
      "Requirement already satisfied: packaging>=20.0 in c:\\users\\manta\\.conda\\envs\\r\\lib\\site-packages (from matplotlib) (23.1)\n",
      "Requirement already satisfied: pillow>=6.2.0 in c:\\users\\manta\\.conda\\envs\\r\\lib\\site-packages (from matplotlib) (10.1.0)\n",
      "Requirement already satisfied: pyparsing>=2.3.1 in c:\\users\\manta\\.conda\\envs\\r\\lib\\site-packages (from matplotlib) (3.1.1)\n",
      "Requirement already satisfied: python-dateutil>=2.7 in c:\\users\\manta\\.conda\\envs\\r\\lib\\site-packages (from matplotlib) (2.8.2)\n",
      "Requirement already satisfied: six>=1.5 in c:\\users\\manta\\.conda\\envs\\r\\lib\\site-packages (from python-dateutil>=2.7->matplotlib) (1.16.0)\n"
     ]
    }
   ],
   "source": [
    "!pip install biopython\n",
    "!pip install matplotlib"
   ]
  },
  {
   "cell_type": "code",
   "execution_count": 4,
   "metadata": {
    "id": "WDCM65XiS0gv"
   },
   "outputs": [],
   "source": [
    "from Bio import Entrez, SeqIO\n",
    "from Bio.Align import PairwiseAligner\n",
    "import numpy as np\n",
    "import pandas as pd\n",
    "import random\n",
    "import matplotlib.pyplot as plt"
   ]
  },
  {
   "cell_type": "markdown",
   "metadata": {
    "id": "hqw0ujQkS6Yn"
   },
   "source": [
    "# 1 Dalis"
   ]
  },
  {
   "cell_type": "markdown",
   "metadata": {
    "id": "-8otXaCTDmvK"
   },
   "source": [
    "Iš paieškos sąrašo: https://www.ncbi.nlm.nih.gov/nuccore?term=33175%5BBioProject%5D+OR+33317%5BBioProject%5D  sekų prieigos ID yra išsaugotos 'sequence.seq' faile.\n",
    "Iš failo pasirenkama dvidešimt 16S sekų ID.\n"
   ]
  },
  {
   "cell_type": "code",
   "execution_count": 5,
   "metadata": {
    "id": "PqFe10pGS3lg"
   },
   "outputs": [
    {
     "ename": "FileNotFoundError",
     "evalue": "[Errno 2] No such file or directory: 'sequence.seq'",
     "output_type": "error",
     "traceback": [
      "\u001b[1;31m---------------------------------------------------------------------------\u001b[0m",
      "\u001b[1;31mFileNotFoundError\u001b[0m                         Traceback (most recent call last)",
      "Cell \u001b[1;32mIn[5], line 4\u001b[0m\n\u001b[0;32m      1\u001b[0m NUMBER_OF_SEQUENCES \u001b[38;5;241m=\u001b[39m \u001b[38;5;241m20\u001b[39m\n\u001b[0;32m      3\u001b[0m sequence_ids \u001b[38;5;241m=\u001b[39m []\n\u001b[1;32m----> 4\u001b[0m \u001b[38;5;28;01mwith\u001b[39;00m \u001b[38;5;28mopen\u001b[39m(\u001b[38;5;124m'\u001b[39m\u001b[38;5;124msequence.seq\u001b[39m\u001b[38;5;124m'\u001b[39m) \u001b[38;5;28;01mas\u001b[39;00m f:\n\u001b[0;32m      5\u001b[0m   sequence_ids \u001b[38;5;241m=\u001b[39m f\u001b[38;5;241m.\u001b[39mreadlines()\n\u001b[0;32m      6\u001b[0m   sequence_ids \u001b[38;5;241m=\u001b[39m sequence_ids[:NUMBER_OF_SEQUENCES]\n",
      "File \u001b[1;32m~\\.conda\\envs\\r\\Lib\\site-packages\\IPython\\core\\interactiveshell.py:286\u001b[0m, in \u001b[0;36m_modified_open\u001b[1;34m(file, *args, **kwargs)\u001b[0m\n\u001b[0;32m    279\u001b[0m \u001b[38;5;28;01mif\u001b[39;00m file \u001b[38;5;129;01min\u001b[39;00m {\u001b[38;5;241m0\u001b[39m, \u001b[38;5;241m1\u001b[39m, \u001b[38;5;241m2\u001b[39m}:\n\u001b[0;32m    280\u001b[0m     \u001b[38;5;28;01mraise\u001b[39;00m \u001b[38;5;167;01mValueError\u001b[39;00m(\n\u001b[0;32m    281\u001b[0m         \u001b[38;5;124mf\u001b[39m\u001b[38;5;124m\"\u001b[39m\u001b[38;5;124mIPython won\u001b[39m\u001b[38;5;124m'\u001b[39m\u001b[38;5;124mt let you open fd=\u001b[39m\u001b[38;5;132;01m{\u001b[39;00mfile\u001b[38;5;132;01m}\u001b[39;00m\u001b[38;5;124m by default \u001b[39m\u001b[38;5;124m\"\u001b[39m\n\u001b[0;32m    282\u001b[0m         \u001b[38;5;124m\"\u001b[39m\u001b[38;5;124mas it is likely to crash IPython. If you know what you are doing, \u001b[39m\u001b[38;5;124m\"\u001b[39m\n\u001b[0;32m    283\u001b[0m         \u001b[38;5;124m\"\u001b[39m\u001b[38;5;124myou can use builtins\u001b[39m\u001b[38;5;124m'\u001b[39m\u001b[38;5;124m open.\u001b[39m\u001b[38;5;124m\"\u001b[39m\n\u001b[0;32m    284\u001b[0m     )\n\u001b[1;32m--> 286\u001b[0m \u001b[38;5;28;01mreturn\u001b[39;00m io_open(file, \u001b[38;5;241m*\u001b[39margs, \u001b[38;5;241m*\u001b[39m\u001b[38;5;241m*\u001b[39mkwargs)\n",
      "\u001b[1;31mFileNotFoundError\u001b[0m: [Errno 2] No such file or directory: 'sequence.seq'"
     ]
    }
   ],
   "source": [
    "NUMBER_OF_SEQUENCES = 20\n",
    "\n",
    "sequence_ids = []\n",
    "with open('sequence.seq') as f:\n",
    "  sequence_ids = f.readlines()\n",
    "  sequence_ids = sequence_ids[:NUMBER_OF_SEQUENCES]\n"
   ]
  },
  {
   "cell_type": "markdown",
   "metadata": {
    "id": "uSS31OJmEfqi"
   },
   "source": [
    "Pagal ID sekos yra gaunamos fasta formatu."
   ]
  },
  {
   "cell_type": "code",
   "execution_count": null,
   "metadata": {
    "id": "lGVsYL90X9pP"
   },
   "outputs": [],
   "source": [
    "sequences = []\n",
    "for seq_id in sequence_ids:\n",
    "    handle = Entrez.efetch(db=\"nucleotide\", id=seq_id, rettype=\"fasta\", retmode=\"text\")\n",
    "    record = SeqIO.read(handle, \"fasta\")\n",
    "    sequences.append(record)"
   ]
  },
  {
   "cell_type": "markdown",
   "metadata": {
    "id": "iR15ZCJnEo0b"
   },
   "source": [
    "Gaunami globalūs poriniai išlyginimai."
   ]
  },
  {
   "cell_type": "code",
   "execution_count": 52,
   "metadata": {
    "id": "l1-kmrX9dl-r"
   },
   "outputs": [],
   "source": [
    "aligner = PairwiseAligner()\n",
    "aligner.mode = 'global'\n",
    "alignment_table = np.empty((20, 20),dtype='int')\n",
    "for i in range(NUMBER_OF_SEQUENCES):\n",
    "    for j in range(i, NUMBER_OF_SEQUENCES):\n",
    "        alignment_score = aligner.score(sequences[i], sequences[j])\n",
    "        alignment_table[i][j] = alignment_score\n",
    "        alignment_table[j][i] = alignment_score\n"
   ]
  },
  {
   "cell_type": "markdown",
   "metadata": {
    "id": "Ni2tlkIXE1PG"
   },
   "source": [
    "Sukuriama lentelė su sekų eilės numeriais ir atitinkamomis išlyginimo kainomis."
   ]
  },
  {
   "cell_type": "code",
   "execution_count": 53,
   "metadata": {
    "id": "141R2ieDdxnD"
   },
   "outputs": [],
   "source": [
    "row_col_names = [\"Seka \" + str(i + 1) for i in range(NUMBER_OF_SEQUENCES)]\n",
    "df = pd.DataFrame(alignment_table,index = row_col_names, columns=row_col_names)"
   ]
  },
  {
   "cell_type": "markdown",
   "metadata": {
    "id": "H4emeQ3sFM36"
   },
   "source": [
    "Atspausdinama lentelė"
   ]
  },
  {
   "cell_type": "code",
   "execution_count": 54,
   "metadata": {
    "colab": {
     "base_uri": "https://localhost:8080/"
    },
    "id": "L1jFul6Hd_-_",
    "outputId": "74c78d81-624a-457b-b40f-ea42692af7be"
   },
   "outputs": [
    {
     "name": "stdout",
     "output_type": "stream",
     "text": [
      "         Seka 1  Seka 2  Seka 3  Seka 4  Seka 5  Seka 6  Seka 7  Seka 8  \\\n",
      "Seka 1     1414    1159    1115    1125    1106     893    1148    1146   \n",
      "Seka 2     1159    1475    1228    1243    1209     963    1324    1360   \n",
      "Seka 3     1115    1228    1355    1222    1238     970    1233    1219   \n",
      "Seka 4     1125    1243    1222    1344    1225     987    1261    1240   \n",
      "Seka 5     1106    1209    1238    1225    1342     981    1238    1204   \n",
      "Seka 6      893     963     970     987     981    1045    1045     970   \n",
      "Seka 7     1148    1324    1233    1261    1238    1045    1466    1349   \n",
      "Seka 8     1146    1360    1219    1240    1204     970    1349    1485   \n",
      "Seka 9     1145    1359    1218    1239    1203     970    1349    1482   \n",
      "Seka 10     904    1037     978     960     969     944    1030    1049   \n",
      "Seka 11     907    1038     981     962     967     946    1033    1070   \n",
      "Seka 12     899    1031     973     953     958     937    1025    1061   \n",
      "Seka 13    1159    1348    1248    1267    1232     982    1364    1351   \n",
      "Seka 14    1141    1316    1230    1235    1203     964    1284    1293   \n",
      "Seka 15    1086    1171    1161    1168    1145     928    1165    1164   \n",
      "Seka 16    1162    1364    1229    1249    1215     968    1347    1361   \n",
      "Seka 17    1161    1361    1227    1247    1214     968    1345    1357   \n",
      "Seka 18    1167    1346    1252    1319    1264     994    1380    1352   \n",
      "Seka 19    1147    1316    1259    1263    1313     987    1353    1327   \n",
      "Seka 20    1142    1314    1256    1265    1314     986    1350    1323   \n",
      "\n",
      "         Seka 9  Seka 10  Seka 11  Seka 12  Seka 13  Seka 14  Seka 15  \\\n",
      "Seka 1     1145      904      907      899     1159     1141     1086   \n",
      "Seka 2     1359     1037     1038     1031     1348     1316     1171   \n",
      "Seka 3     1218      978      981      973     1248     1230     1161   \n",
      "Seka 4     1239      960      962      953     1267     1235     1168   \n",
      "Seka 5     1203      969      967      958     1232     1203     1145   \n",
      "Seka 6      970      944      946      937      982      964      928   \n",
      "Seka 7     1349     1030     1033     1025     1364     1284     1165   \n",
      "Seka 8     1482     1049     1070     1061     1351     1293     1164   \n",
      "Seka 9     1484     1048     1069     1060     1350     1292     1164   \n",
      "Seka 10    1048     1122     1051     1042     1037      993      919   \n",
      "Seka 11    1069     1051     1120     1109     1045      985      917   \n",
      "Seka 12    1060     1042     1109     1110     1040      978      907   \n",
      "Seka 13    1350     1037     1045     1040     1539     1306     1173   \n",
      "Seka 14    1292      993      985      978     1306     1442     1184   \n",
      "Seka 15    1164      919      917      907     1173     1184     1297   \n",
      "Seka 16    1360     1045     1047     1040     1353     1311     1180   \n",
      "Seka 17    1356     1045     1046     1039     1351     1309     1179   \n",
      "Seka 18    1351     1034     1041     1034     1425     1305     1165   \n",
      "Seka 19    1326     1024     1017     1010     1373     1281     1160   \n",
      "Seka 20    1322     1025     1019     1011     1377     1276     1157   \n",
      "\n",
      "         Seka 16  Seka 17  Seka 18  Seka 19  Seka 20  \n",
      "Seka 1      1162     1161     1167     1147     1142  \n",
      "Seka 2      1364     1361     1346     1316     1314  \n",
      "Seka 3      1229     1227     1252     1259     1256  \n",
      "Seka 4      1249     1247     1319     1263     1265  \n",
      "Seka 5      1215     1214     1264     1313     1314  \n",
      "Seka 6       968      968      994      987      986  \n",
      "Seka 7      1347     1345     1380     1353     1350  \n",
      "Seka 8      1361     1357     1352     1327     1323  \n",
      "Seka 9      1360     1356     1351     1326     1322  \n",
      "Seka 10     1045     1045     1034     1024     1025  \n",
      "Seka 11     1047     1046     1041     1017     1019  \n",
      "Seka 12     1040     1039     1034     1010     1011  \n",
      "Seka 13     1353     1351     1425     1373     1377  \n",
      "Seka 14     1311     1309     1305     1281     1276  \n",
      "Seka 15     1180     1179     1165     1160     1157  \n",
      "Seka 16     1496     1492     1362     1326     1325  \n",
      "Seka 17     1492     1494     1359     1323     1322  \n",
      "Seka 18     1362     1359     1500     1400     1402  \n",
      "Seka 19     1326     1323     1400     1500     1476  \n",
      "Seka 20     1325     1322     1402     1476     1500  \n"
     ]
    }
   ],
   "source": [
    "print(df)"
   ]
  },
  {
   "cell_type": "markdown",
   "metadata": {
    "id": "PXbl1s1tTNU0"
   },
   "source": [
    "# 2 Dalis"
   ]
  },
  {
   "cell_type": "markdown",
   "metadata": {
    "id": "Z_fTTnZ2FWHZ"
   },
   "source": [
    "Užduočiai pasirinktas ***Halopiger xanaduensis*** archėjos genomas, kurio ID: NC_012654.1. Genomo seka atsisiunčiama."
   ]
  },
  {
   "cell_type": "code",
   "execution_count": null,
   "metadata": {
    "id": "sDYX1meUa0PF"
   },
   "outputs": [],
   "source": [
    "\n",
    "genome_id = \"NC_012654.1\"\n",
    "handle = Entrez.efetch(db=\"nucleotide\", id=genome_id, rettype=\"fasta\", retmode=\"text\")\n",
    "genome = SeqIO.read(handle, \"fasta\")"
   ]
  },
  {
   "cell_type": "code",
   "execution_count": 57,
   "metadata": {
    "colab": {
     "base_uri": "https://localhost:8080/"
    },
    "id": "tqQaJpQKbYlS",
    "outputId": "e3d1fffb-29c9-4d12-da3d-c196cd8f24b7"
   },
   "outputs": [
    {
     "name": "stdout",
     "output_type": "stream",
     "text": [
      "270022\n"
     ]
    }
   ],
   "source": [
    "genome_lenght = len(genome.seq)\n",
    "T_lenght = 2000\n",
    "print(genome_lenght)"
   ]
  },
  {
   "cell_type": "markdown",
   "metadata": {
    "id": "HM7X4vxUGcH3"
   },
   "source": [
    "Iš genomo atsitiktinai iškerpamas 2000 bp ilgio fragmentas **T**."
   ]
  },
  {
   "cell_type": "code",
   "execution_count": 46,
   "metadata": {
    "id": "NblGgkKCdcJO"
   },
   "outputs": [],
   "source": [
    "\n",
    "cut_index = random.randint(0,genome_lenght - 2001)\n",
    "\n",
    "T = genome[cut_index:cut_index + 2000]\n",
    "genome_without_T = genome[:cut_index] + genome[cut_index + 2000:]\n",
    "\n",
    "assert(len(genome) == len(T) + len(genome_without_T) and len(T) == 2000)"
   ]
  },
  {
   "cell_type": "code",
   "execution_count": 47,
   "metadata": {
    "id": "mCYZQqT3_slF"
   },
   "outputs": [],
   "source": [
    "aligner = PairwiseAligner()\n",
    "aligner.mode = 'local'\n",
    "aligner.match_score = 1\n",
    "aligner.mismatch_score = -1\n",
    "aligner.gap_score = -2"
   ]
  },
  {
   "cell_type": "markdown",
   "metadata": {
    "id": "zQox4JZOGjwB"
   },
   "source": [
    "Iš likusio genomo 10_000 kartų atsitiktinai parenkami 100 bp fragmentai, ir atliekami lokalūs išlyginimai su **T**."
   ]
  },
  {
   "cell_type": "code",
   "execution_count": 48,
   "metadata": {
    "id": "30j1CCamyqVe"
   },
   "outputs": [],
   "source": [
    "alignment_scores = np.empty((10000),dtype='int')\n",
    "genome_without_T_lenght  = len(genome_without_T)\n",
    "\n",
    "for i in range(10000):\n",
    "  fragment_index = random.randint(0,genome_without_T_lenght - 101)\n",
    "  fragment = genome_without_T[fragment_index:fragment_index + 100]\n",
    "  alignment_scores[i] = aligner.score(fragment,T)\n"
   ]
  },
  {
   "cell_type": "markdown",
   "metadata": {
    "id": "XY-vk4sSHTjm"
   },
   "source": [
    "Pavaizduojama išlyginimų kainų histograma"
   ]
  },
  {
   "cell_type": "code",
   "execution_count": 49,
   "metadata": {
    "colab": {
     "base_uri": "https://localhost:8080/",
     "height": 472
    },
    "id": "YIN-i2JL_MwY",
    "outputId": "607fe5b7-7c84-4b3c-c432-b5f711576892"
   },
   "outputs": [
    {
     "data": {
      "image/png": "[encoded data removed]",
      "text/plain": [
       "<Figure size 640x480 with 1 Axes>"
      ]
     },
     "metadata": {},
     "output_type": "display_data"
    }
   ],
   "source": [
    "plt.hist(alignment_scores, edgecolor='black')\n",
    "plt.xlabel('Alignment Score')\n",
    "plt.ylabel('Frequency')\n",
    "plt.title('Local Alignment Scores')\n",
    "plt.show()"
   ]
  }
 ],
 "metadata": {
  "colab": {
   "provenance": []
  },
  "kernelspec": {
   "display_name": "Python 3 (ipykernel)",
   "language": "python",
   "name": "python3"
  },
  "language_info": {
   "codemirror_mode": {
    "name": "ipython",
    "version": 3
   },
   "file_extension": ".py",
   "mimetype": "text/x-python",
   "name": "python",
   "nbconvert_exporter": "python",
   "pygments_lexer": "ipython3",
   "version": "3.11.5"
  }
 },
 "nbformat": 4,
 "nbformat_minor": 1
}
