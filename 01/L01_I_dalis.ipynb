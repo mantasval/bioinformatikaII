{
 "cells": [
  {
   "cell_type": "markdown",
   "id": "7a1c7a91",
   "metadata": {},
   "source": [
    "*Mantas Valiulis\\\n",
    "Lab. darbas Nr. 1, I dalis*"
   ]
  },
  {
   "cell_type": "markdown",
   "id": "0062c6cf",
   "metadata": {
    "id": "Hn-_UEg1n9c9"
   },
   "source": [
    "# Pagrindinė dalis"
   ]
  },
  {
   "cell_type": "markdown",
   "id": "edd8a1fe",
   "metadata": {},
   "source": [
    "**Darbe naudojamas 'esoph' duomenų rinkinys, kurame yra duomenys apie rūkymo, alkoholio vartojimo ir stemplės vėžio riziką. Duomenys yra suskirstyti į grupes pagal amžių, suvartojamo tabako ir alkoholio kiekį.**"
   ]
  },
  {
   "cell_type": "code",
   "execution_count": 3,
   "id": "5619326d",
   "metadata": {},
   "outputs": [
    {
     "data": {
      "text/html": [
       "<table>\n",
       "<thead><tr><th scope=col>agegp</th><th scope=col>alcgp</th><th scope=col>tobgp</th><th scope=col>ncases</th><th scope=col>ncontrols</th></tr></thead>\n",
       "<tbody>\n",
       "\t<tr><td>25-34    </td><td>0-39g/day</td><td>0-9g/day </td><td>0        </td><td>40       </td></tr>\n",
       "\t<tr><td>25-34    </td><td>0-39g/day</td><td>10-19    </td><td>0        </td><td>10       </td></tr>\n",
       "\t<tr><td>25-34    </td><td>0-39g/day</td><td>20-29    </td><td>0        </td><td> 6       </td></tr>\n",
       "\t<tr><td>25-34    </td><td>0-39g/day</td><td>30+      </td><td>0        </td><td> 5       </td></tr>\n",
       "\t<tr><td>25-34    </td><td>40-79    </td><td>0-9g/day </td><td>0        </td><td>27       </td></tr>\n",
       "\t<tr><td>25-34    </td><td>40-79    </td><td>10-19    </td><td>0        </td><td> 7       </td></tr>\n",
       "</tbody>\n",
       "</table>\n"
      ],
      "text/latex": [
       "\\begin{tabular}{r|lllll}\n",
       " agegp & alcgp & tobgp & ncases & ncontrols\\\\\n",
       "\\hline\n",
       "\t 25-34     & 0-39g/day & 0-9g/day  & 0         & 40       \\\\\n",
       "\t 25-34     & 0-39g/day & 10-19     & 0         & 10       \\\\\n",
       "\t 25-34     & 0-39g/day & 20-29     & 0         &  6       \\\\\n",
       "\t 25-34     & 0-39g/day & 30+       & 0         &  5       \\\\\n",
       "\t 25-34     & 40-79     & 0-9g/day  & 0         & 27       \\\\\n",
       "\t 25-34     & 40-79     & 10-19     & 0         &  7       \\\\\n",
       "\\end{tabular}\n"
      ],
      "text/markdown": [
       "\n",
       "| agegp | alcgp | tobgp | ncases | ncontrols |\n",
       "|---|---|---|---|---|\n",
       "| 25-34     | 0-39g/day | 0-9g/day  | 0         | 40        |\n",
       "| 25-34     | 0-39g/day | 10-19     | 0         | 10        |\n",
       "| 25-34     | 0-39g/day | 20-29     | 0         |  6        |\n",
       "| 25-34     | 0-39g/day | 30+       | 0         |  5        |\n",
       "| 25-34     | 40-79     | 0-9g/day  | 0         | 27        |\n",
       "| 25-34     | 40-79     | 10-19     | 0         |  7        |\n",
       "\n"
      ],
      "text/plain": [
       "  agegp alcgp     tobgp    ncases ncontrols\n",
       "1 25-34 0-39g/day 0-9g/day 0      40       \n",
       "2 25-34 0-39g/day 10-19    0      10       \n",
       "3 25-34 0-39g/day 20-29    0       6       \n",
       "4 25-34 0-39g/day 30+      0       5       \n",
       "5 25-34 40-79     0-9g/day 0      27       \n",
       "6 25-34 40-79     10-19    0       7       "
      ]
     },
     "metadata": {},
     "output_type": "display_data"
    },
    {
     "data": {
      "text/html": [
       "<table>\n",
       "<thead><tr><th></th><th scope=col>agegp</th><th scope=col>alcgp</th><th scope=col>tobgp</th><th scope=col>ncases</th><th scope=col>ncontrols</th></tr></thead>\n",
       "<tbody>\n",
       "\t<tr><th scope=row>83</th><td>75+     </td><td>40-79   </td><td>20-29   </td><td>0       </td><td>3       </td></tr>\n",
       "\t<tr><th scope=row>84</th><td>75+     </td><td>40-79   </td><td>30+     </td><td>1       </td><td>1       </td></tr>\n",
       "\t<tr><th scope=row>85</th><td>75+     </td><td>80-119  </td><td>0-9g/day</td><td>1       </td><td>1       </td></tr>\n",
       "\t<tr><th scope=row>86</th><td>75+     </td><td>80-119  </td><td>10-19   </td><td>1       </td><td>1       </td></tr>\n",
       "\t<tr><th scope=row>87</th><td>75+     </td><td>120+    </td><td>0-9g/day</td><td>2       </td><td>2       </td></tr>\n",
       "\t<tr><th scope=row>88</th><td>75+     </td><td>120+    </td><td>10-19   </td><td>1       </td><td>1       </td></tr>\n",
       "</tbody>\n",
       "</table>\n"
      ],
      "text/latex": [
       "\\begin{tabular}{r|lllll}\n",
       "  & agegp & alcgp & tobgp & ncases & ncontrols\\\\\n",
       "\\hline\n",
       "\t83 & 75+      & 40-79    & 20-29    & 0        & 3       \\\\\n",
       "\t84 & 75+      & 40-79    & 30+      & 1        & 1       \\\\\n",
       "\t85 & 75+      & 80-119   & 0-9g/day & 1        & 1       \\\\\n",
       "\t86 & 75+      & 80-119   & 10-19    & 1        & 1       \\\\\n",
       "\t87 & 75+      & 120+     & 0-9g/day & 2        & 2       \\\\\n",
       "\t88 & 75+      & 120+     & 10-19    & 1        & 1       \\\\\n",
       "\\end{tabular}\n"
      ],
      "text/markdown": [
       "\n",
       "| <!--/--> | agegp | alcgp | tobgp | ncases | ncontrols |\n",
       "|---|---|---|---|---|---|\n",
       "| 83 | 75+      | 40-79    | 20-29    | 0        | 3        |\n",
       "| 84 | 75+      | 40-79    | 30+      | 1        | 1        |\n",
       "| 85 | 75+      | 80-119   | 0-9g/day | 1        | 1        |\n",
       "| 86 | 75+      | 80-119   | 10-19    | 1        | 1        |\n",
       "| 87 | 75+      | 120+     | 0-9g/day | 2        | 2        |\n",
       "| 88 | 75+      | 120+     | 10-19    | 1        | 1        |\n",
       "\n"
      ],
      "text/plain": [
       "   agegp alcgp  tobgp    ncases ncontrols\n",
       "83 75+   40-79  20-29    0      3        \n",
       "84 75+   40-79  30+      1      1        \n",
       "85 75+   80-119 0-9g/day 1      1        \n",
       "86 75+   80-119 10-19    1      1        \n",
       "87 75+   120+   0-9g/day 2      2        \n",
       "88 75+   120+   10-19    1      1        "
      ]
     },
     "metadata": {},
     "output_type": "display_data"
    }
   ],
   "source": [
    "data(esoph)\n",
    "head(esoph)\n",
    "tail(esoph)"
   ]
  },
  {
   "cell_type": "markdown",
   "id": "7bd21e5f",
   "metadata": {},
   "source": [
    "**Amžiaus,suvartojomo alkoholio ir tobako kiekio kategorijos paverčiamos skaitinėmis vertėmis, kad būtų galima skaičiuoti koreliaciją tarp jų.\n",
    "Pridedamas papildomas stulpelis, kuris paskaičiuoja procentinį vėžio atvejų santykį kiekvienai grupei.**"
   ]
  },
  {
   "cell_type": "code",
   "execution_count": 4,
   "id": "3738b69b",
   "metadata": {},
   "outputs": [],
   "source": [
    "df <- esoph\n",
    "\n",
    "df$agegp <- ifelse(df$agegp == \"25-34\", 30,\n",
    "                         ifelse(df$agegp == \"35-44\", 40,\n",
    "                         ifelse(df$agegp == \"45-54\", 50,\n",
    "                         ifelse(df$agegp == \"55-64\", 60,\n",
    "                         ifelse(df$agegp == \"65-74\", 70,\n",
    "                         ifelse(df$agegp == \"75+\", 80, NA))))))\n",
    "\n",
    "df$alcgp <- ifelse(df$alcgp == \"0-39g/day\", 20,\n",
    "                        ifelse(df$alcgp == \"40-79\", 60,\n",
    "                        ifelse(df$alcgp == \"80-119\", 100,\n",
    "                        ifelse(df$alcgp == \"120+\", 120, NA))))\n",
    "\n",
    "df$tobgp <- ifelse(df$tobgp == \"0-9g/day\", 5,\n",
    "                        ifelse(df$tobgp == \"10-19\", 15,\n",
    "                        ifelse(df$tobgp == \"20-29\", 25,\n",
    "                        ifelse(df$tobgp == \"30+\", 30, NA))))\n",
    "\n",
    "df$cases_ratio  <- df$ncases * 100 / (df$ncontrols + df$ncases)"
   ]
  },
  {
   "cell_type": "markdown",
   "id": "8a222747",
   "metadata": {},
   "source": [
    "**Sukuriama koreliacijos matrica tarp agegp, alcgp, tobgp ir cases_ratio stulpelių.**"
   ]
  },
  {
   "cell_type": "code",
   "execution_count": 5,
   "id": "0cbdb246",
   "metadata": {},
   "outputs": [
    {
     "data": {
      "text/html": [
       "<table>\n",
       "<thead><tr><th></th><th scope=col>agegp</th><th scope=col>alcgp</th><th scope=col>tobgp</th><th scope=col>cases_ratio</th></tr></thead>\n",
       "<tbody>\n",
       "\t<tr><th scope=row>agegp</th><td> 1.00000000</td><td>-0.01367027</td><td>-0.06877864</td><td>0.58703223 </td></tr>\n",
       "\t<tr><th scope=row>alcgp</th><td>-0.01367027</td><td> 1.00000000</td><td>-0.04568395</td><td>0.50665129 </td></tr>\n",
       "\t<tr><th scope=row>tobgp</th><td>-0.06877864</td><td>-0.04568395</td><td> 1.00000000</td><td>0.05070901 </td></tr>\n",
       "\t<tr><th scope=row>cases_ratio</th><td> 0.58703223</td><td> 0.50665129</td><td> 0.05070901</td><td>1.00000000 </td></tr>\n",
       "</tbody>\n",
       "</table>\n"
      ],
      "text/latex": [
       "\\begin{tabular}{r|llll}\n",
       "  & agegp & alcgp & tobgp & cases\\_ratio\\\\\n",
       "\\hline\n",
       "\tagegp &  1.00000000 & -0.01367027 & -0.06877864 & 0.58703223 \\\\\n",
       "\talcgp & -0.01367027 &  1.00000000 & -0.04568395 & 0.50665129 \\\\\n",
       "\ttobgp & -0.06877864 & -0.04568395 &  1.00000000 & 0.05070901 \\\\\n",
       "\tcases\\_ratio &  0.58703223 &  0.50665129 &  0.05070901 & 1.00000000 \\\\\n",
       "\\end{tabular}\n"
      ],
      "text/markdown": [
       "\n",
       "| <!--/--> | agegp | alcgp | tobgp | cases_ratio |\n",
       "|---|---|---|---|---|\n",
       "| agegp |  1.00000000 | -0.01367027 | -0.06877864 | 0.58703223  |\n",
       "| alcgp | -0.01367027 |  1.00000000 | -0.04568395 | 0.50665129  |\n",
       "| tobgp | -0.06877864 | -0.04568395 |  1.00000000 | 0.05070901  |\n",
       "| cases_ratio |  0.58703223 |  0.50665129 |  0.05070901 | 1.00000000  |\n",
       "\n"
      ],
      "text/plain": [
       "            agegp       alcgp       tobgp       cases_ratio\n",
       "agegp        1.00000000 -0.01367027 -0.06877864 0.58703223 \n",
       "alcgp       -0.01367027  1.00000000 -0.04568395 0.50665129 \n",
       "tobgp       -0.06877864 -0.04568395  1.00000000 0.05070901 \n",
       "cases_ratio  0.58703223  0.50665129  0.05070901 1.00000000 "
      ]
     },
     "metadata": {},
     "output_type": "display_data"
    }
   ],
   "source": [
    "cor_matrix <- cor(df[, -c(4, 5)])\n",
    "cor_matrix"
   ]
  },
  {
   "cell_type": "code",
   "execution_count": 6,
   "id": "4326b9d6",
   "metadata": {},
   "outputs": [
    {
     "data": {
      "image/png": "[encoded data removed]",
      "text/plain": [
       "plot without title"
      ]
     },
     "metadata": {},
     "output_type": "display_data"
    }
   ],
   "source": [
    "heatmap(cor_matrix)"
   ]
  },
  {
   "cell_type": "markdown",
   "id": "39f798dd",
   "metadata": {},
   "source": [
    "**Toliau naudojamas pradinis duomenų rinkinys su pridėtu vėžio susirgimų santykiu.**"
   ]
  },
  {
   "cell_type": "code",
   "execution_count": 7,
   "id": "fc493399",
   "metadata": {},
   "outputs": [],
   "source": [
    "df2 <- esoph\n",
    "df2$cases_ratio  <- df2$ncases * 100 / (df2$ncontrols + df2$ncases)"
   ]
  },
  {
   "cell_type": "markdown",
   "id": "24cf6c75",
   "metadata": {},
   "source": [
    "**Žemiau esančios stulpelinės diagramos vaizduoja vidutinį vėžio atvejų santykį, kiekvienai kategorijai: suvartojamo alkoholio kiekio, suvartojamo tobako kiekio, amžiaus.**"
   ]
  },
  {
   "cell_type": "code",
   "execution_count": 8,
   "id": "e820e354",
   "metadata": {},
   "outputs": [
    {
     "data": {
      "image/png": "[encoded data removed]",
      "text/plain": [
       "Plot with title \"Mean Cases Ratio by Age Group\""
      ]
     },
     "metadata": {},
     "output_type": "display_data"
    }
   ],
   "source": [
    "mean_cases_ratio_by_agegp <- aggregate(cases_ratio ~ agegp, data = df2, FUN = mean)\n",
    "\n",
    "barplot(mean_cases_ratio_by_agegp$cases_ratio, \n",
    "        names.arg = mean_cases_ratio_by_agegp$agegp, \n",
    "        main = \"Mean Cases Ratio by Age Group\",\n",
    "        xlab = \"Age Group\",\n",
    "        ylab = \"Mean Cases Ratio\",\n",
    "        col = \"blue\")"
   ]
  },
  {
   "cell_type": "code",
   "execution_count": 9,
   "id": "a701baac",
   "metadata": {},
   "outputs": [
    {
     "data": {
      "image/png": "[encoded data removed]",
      "text/plain": [
       "Plot with title \"Mean Cases Ratio by Alcohol Group\""
      ]
     },
     "metadata": {},
     "output_type": "display_data"
    }
   ],
   "source": [
    "mean_cases_ratio_by_alcgp <- aggregate(cases_ratio ~ alcgp, data = df2, FUN = mean)\n",
    "\n",
    "barplot(mean_cases_ratio_by_alcgp$cases_ratio, \n",
    "        names.arg = mean_cases_ratio_by_alcgp$alcgp, \n",
    "        main = \"Mean Cases Ratio by Alcohol Group\",\n",
    "        xlab = \"Alcohol Group\",\n",
    "        ylab = \"Mean Cases Ratio\",\n",
    "        col = \"green\")"
   ]
  },
  {
   "cell_type": "code",
   "execution_count": 10,
   "id": "bd76b9f3",
   "metadata": {},
   "outputs": [
    {
     "data": {
      "image/png": "[encoded data removed]",
      "text/plain": [
       "Plot with title \"Mean Cases Ratio by Tobaco Group\""
      ]
     },
     "metadata": {},
     "output_type": "display_data"
    }
   ],
   "source": [
    "mean_cases_ratio_by_tobgp <- aggregate(cases_ratio ~ tobgp, data = df2, FUN = mean)\n",
    "\n",
    "barplot(mean_cases_ratio_by_tobgp$cases_ratio, \n",
    "        names.arg = mean_cases_ratio_by_tobgp$tobgp, \n",
    "        main = \"Mean Cases Ratio by Tobaco Group\",\n",
    "        xlab = \"Tobaco Group\",\n",
    "        ylab = \"Mean Cases Ratio\",\n",
    "        col = \"orange\")"
   ]
  },
  {
   "cell_type": "markdown",
   "id": "4230e941",
   "metadata": {},
   "source": [
    "**Abu duomenų rinkiniai išsaugomi csv formatu ir bus naudojami antroje dalyje**"
   ]
  },
  {
   "cell_type": "code",
   "execution_count": 11,
   "id": "d5310abc",
   "metadata": {},
   "outputs": [],
   "source": [
    "write.csv(df, file = \"esoph_df.csv\", row.names = FALSE)\n",
    "write.csv(df2, file = \"esoph_df2.csv\", row.names = FALSE)"
   ]
  },
  {
   "cell_type": "markdown",
   "id": "88203d12",
   "metadata": {
    "id": "Hn-_UEg1n9c9"
   },
   "source": [
    "# Papildoma dalis"
   ]
  },
  {
   "cell_type": "markdown",
   "id": "42550fbf",
   "metadata": {},
   "source": [
    "**H0: stemplės susirgimų santykio vidurkis tarp 30 ir 80 amžiaus grupių yra vienodas**"
   ]
  },
  {
   "cell_type": "markdown",
   "id": "7d610d97",
   "metadata": {},
   "source": [
    "**H0 atmesta, p-vertė = 0.003542**"
   ]
  },
  {
   "cell_type": "code",
   "execution_count": 22,
   "id": "2e165296",
   "metadata": {},
   "outputs": [
    {
     "name": "stdout",
     "output_type": "stream",
     "text": [
      "\n",
      "\tWelch Two Sample t-test\n",
      "\n",
      "data:  age30$cases_ratio and age80$cases_ratio\n",
      "t = -4.4637, df = 16.722, p-value = 0.0003542\n",
      "alternative hypothesis: true difference in means is not equal to 0\n",
      "95 percent confidence interval:\n",
      " -43.14869 -15.42730\n",
      "sample estimates:\n",
      "mean of x mean of y \n",
      " 3.333333 32.621326 \n",
      "\n"
     ]
    }
   ],
   "source": [
    "age30 <- subset(data, agegp == 30 )\n",
    "age80 <- subset(data, agegp == 80)\n",
    "\n",
    "ttest_result <- t.test(age30$cases_ratio, age80$cases_ratio, conf.level = 0.95)\n",
    "\n",
    "print(ttest_result)\n"
   ]
  },
  {
   "cell_type": "markdown",
   "id": "80008275",
   "metadata": {},
   "source": [
    "**H0: stemplės susirgimų santykio vidurkis tarp 5 g/dieną tobako ir 30 g/dieną tobako grupių yra vienodas**"
   ]
  },
  {
   "cell_type": "markdown",
   "id": "34ad78b9",
   "metadata": {},
   "source": [
    "**H0: priimta, p-vertė = 0.512**"
   ]
  },
  {
   "cell_type": "code",
   "execution_count": 24,
   "id": "ae4ba2e8",
   "metadata": {},
   "outputs": [
    {
     "name": "stdout",
     "output_type": "stream",
     "text": [
      "\n",
      "\tWelch Two Sample t-test\n",
      "\n",
      "data:  tob5$cases_ratio and tob30$cases_ratio\n",
      "t = -0.66215, df = 36.971, p-value = 0.512\n",
      "alternative hypothesis: true difference in means is not equal to 0\n",
      "95 percent confidence interval:\n",
      " -17.086028   8.669494\n",
      "sample estimates:\n",
      "mean of x mean of y \n",
      " 19.23113  23.43939 \n",
      "\n"
     ]
    }
   ],
   "source": [
    "tob5 <- subset(data, tobgp == 5 )\n",
    "tob30 <- subset(data, tobgp == 30)\n",
    "\n",
    "ttest_result <- t.test(tob5$cases_ratio, tob30$cases_ratio)\n",
    "\n",
    "print(ttest_result)"
   ]
  },
  {
   "cell_type": "markdown",
   "id": "4f938bbb",
   "metadata": {},
   "source": [
    "**H0: stemplės susirgimų santykio vidurkis tarp 20 g/dieną alkoholio ir 120 g/dieną alkoholio grupių yra vienodas**"
   ]
  },
  {
   "cell_type": "markdown",
   "id": "077a01f1",
   "metadata": {},
   "source": [
    "**H0 priimta, p-vertė = 1.991e-06**"
   ]
  },
  {
   "cell_type": "code",
   "execution_count": 18,
   "id": "ef9c4baa",
   "metadata": {},
   "outputs": [
    {
     "name": "stdout",
     "output_type": "stream",
     "text": [
      "\n",
      "\tWelch Two Sample t-test\n",
      "\n",
      "data:  alc20$cases_ratio and alc120$cases_ratio\n",
      "t = -5.7593, df = 32.854, p-value = 1.991e-06\n",
      "alternative hypothesis: true difference in means is not equal to 0\n",
      "95 percent confidence interval:\n",
      " -36.75367 -17.56274\n",
      "sample estimates:\n",
      "mean of x mean of y \n",
      " 8.428585 35.586794 \n",
      "\n"
     ]
    }
   ],
   "source": [
    "alc20 <- subset(data, alcgp == 20 )\n",
    "alc120 <- subset(data, alcgp == 120)\n",
    "\n",
    "ttest_result <- t.test(alc20$cases_ratio, alc120$cases_ratio)\n",
    "\n",
    "print(ttest_result)"
   ]
  }
 ],
 "metadata": {
  "kernelspec": {
   "display_name": "R",
   "language": "R",
   "name": "ir"
  },
  "language_info": {
   "codemirror_mode": "r",
   "file_extension": ".r",
   "mimetype": "text/x-r-source",
   "name": "R",
   "pygments_lexer": "r",
   "version": "3.6.1"
  }
 },
 "nbformat": 4,
 "nbformat_minor": 5
}
