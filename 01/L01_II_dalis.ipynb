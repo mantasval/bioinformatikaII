{
 "cells": [
  {
   "cell_type": "markdown",
   "metadata": {},
   "source": [
    "*Mantas Valiulis \\\n",
    "Lab. darbas Nr. 1, II dalis*"
   ]
  },
  {
   "cell_type": "code",
   "execution_count": 1,
   "metadata": {
    "id": "bj2YuiDKeMDx",
    "scrolled": true
   },
   "outputs": [],
   "source": [
    "import pandas as pd\n",
    "import matplotlib.pyplot as plt\n",
    "import seaborn as sns\n",
    "from sklearn.linear_model import LinearRegression\n",
    "from sklearn.model_selection import train_test_split\n",
    "from sklearn.metrics import r2_score"
   ]
  },
  {
   "cell_type": "markdown",
   "metadata": {
    "id": "Hn-_UEg1n9c9"
   },
   "source": [
    "# Pagrindinė dalis"
   ]
  },
  {
   "cell_type": "markdown",
   "metadata": {},
   "source": [
    "**Naudojamas I-oje dalyje išsaugotas csv failas su apdorotu 'esoph' duomenų rinkiniu.**"
   ]
  },
  {
   "cell_type": "code",
   "execution_count": 2,
   "metadata": {
    "colab": {
     "base_uri": "https://localhost:8080/",
     "height": 424
    },
    "id": "FBeJMBDHe0cr",
    "outputId": "798d19a3-fbc2-463d-d856-8324388b14a5"
   },
   "outputs": [
    {
     "data": {
      "text/html": [
       "<div>\n",
       "<style scoped>\n",
       "    .dataframe tbody tr th:only-of-type {\n",
       "        vertical-align: middle;\n",
       "    }\n",
       "\n",
       "    .dataframe tbody tr th {\n",
       "        vertical-align: top;\n",
       "    }\n",
       "\n",
       "    .dataframe thead th {\n",
       "        text-align: right;\n",
       "    }\n",
       "</style>\n",
       "<table border=\"1\" class=\"dataframe\">\n",
       "  <thead>\n",
       "    <tr style=\"text-align: right;\">\n",
       "      <th></th>\n",
       "      <th>agegp</th>\n",
       "      <th>alcgp</th>\n",
       "      <th>tobgp</th>\n",
       "      <th>ncases</th>\n",
       "      <th>ncontrols</th>\n",
       "      <th>cases_ratio</th>\n",
       "    </tr>\n",
       "  </thead>\n",
       "  <tbody>\n",
       "    <tr>\n",
       "      <th>0</th>\n",
       "      <td>30</td>\n",
       "      <td>20</td>\n",
       "      <td>5</td>\n",
       "      <td>0</td>\n",
       "      <td>40</td>\n",
       "      <td>0.0</td>\n",
       "    </tr>\n",
       "    <tr>\n",
       "      <th>1</th>\n",
       "      <td>30</td>\n",
       "      <td>20</td>\n",
       "      <td>15</td>\n",
       "      <td>0</td>\n",
       "      <td>10</td>\n",
       "      <td>0.0</td>\n",
       "    </tr>\n",
       "    <tr>\n",
       "      <th>2</th>\n",
       "      <td>30</td>\n",
       "      <td>20</td>\n",
       "      <td>25</td>\n",
       "      <td>0</td>\n",
       "      <td>6</td>\n",
       "      <td>0.0</td>\n",
       "    </tr>\n",
       "    <tr>\n",
       "      <th>3</th>\n",
       "      <td>30</td>\n",
       "      <td>20</td>\n",
       "      <td>30</td>\n",
       "      <td>0</td>\n",
       "      <td>5</td>\n",
       "      <td>0.0</td>\n",
       "    </tr>\n",
       "    <tr>\n",
       "      <th>4</th>\n",
       "      <td>30</td>\n",
       "      <td>60</td>\n",
       "      <td>5</td>\n",
       "      <td>0</td>\n",
       "      <td>27</td>\n",
       "      <td>0.0</td>\n",
       "    </tr>\n",
       "    <tr>\n",
       "      <th>...</th>\n",
       "      <td>...</td>\n",
       "      <td>...</td>\n",
       "      <td>...</td>\n",
       "      <td>...</td>\n",
       "      <td>...</td>\n",
       "      <td>...</td>\n",
       "    </tr>\n",
       "    <tr>\n",
       "      <th>83</th>\n",
       "      <td>80</td>\n",
       "      <td>60</td>\n",
       "      <td>30</td>\n",
       "      <td>1</td>\n",
       "      <td>1</td>\n",
       "      <td>50.0</td>\n",
       "    </tr>\n",
       "    <tr>\n",
       "      <th>84</th>\n",
       "      <td>80</td>\n",
       "      <td>100</td>\n",
       "      <td>5</td>\n",
       "      <td>1</td>\n",
       "      <td>1</td>\n",
       "      <td>50.0</td>\n",
       "    </tr>\n",
       "    <tr>\n",
       "      <th>85</th>\n",
       "      <td>80</td>\n",
       "      <td>100</td>\n",
       "      <td>15</td>\n",
       "      <td>1</td>\n",
       "      <td>1</td>\n",
       "      <td>50.0</td>\n",
       "    </tr>\n",
       "    <tr>\n",
       "      <th>86</th>\n",
       "      <td>80</td>\n",
       "      <td>120</td>\n",
       "      <td>5</td>\n",
       "      <td>2</td>\n",
       "      <td>2</td>\n",
       "      <td>50.0</td>\n",
       "    </tr>\n",
       "    <tr>\n",
       "      <th>87</th>\n",
       "      <td>80</td>\n",
       "      <td>120</td>\n",
       "      <td>15</td>\n",
       "      <td>1</td>\n",
       "      <td>1</td>\n",
       "      <td>50.0</td>\n",
       "    </tr>\n",
       "  </tbody>\n",
       "</table>\n",
       "<p>88 rows × 6 columns</p>\n",
       "</div>"
      ],
      "text/plain": [
       "    agegp  alcgp  tobgp  ncases  ncontrols  cases_ratio\n",
       "0      30     20      5       0         40          0.0\n",
       "1      30     20     15       0         10          0.0\n",
       "2      30     20     25       0          6          0.0\n",
       "3      30     20     30       0          5          0.0\n",
       "4      30     60      5       0         27          0.0\n",
       "..    ...    ...    ...     ...        ...          ...\n",
       "83     80     60     30       1          1         50.0\n",
       "84     80    100      5       1          1         50.0\n",
       "85     80    100     15       1          1         50.0\n",
       "86     80    120      5       2          2         50.0\n",
       "87     80    120     15       1          1         50.0\n",
       "\n",
       "[88 rows x 6 columns]"
      ]
     },
     "execution_count": 2,
     "metadata": {},
     "output_type": "execute_result"
    }
   ],
   "source": [
    "df = pd.read_csv('esoph_df.csv')\n",
    "df"
   ]
  },
  {
   "cell_type": "markdown",
   "metadata": {},
   "source": [
    "**Paskaičiuojama koreliacijos matrica atmetus 'ncontrols' ir 'ncases' stulpelius**"
   ]
  },
  {
   "cell_type": "code",
   "execution_count": 3,
   "metadata": {
    "colab": {
     "base_uri": "https://localhost:8080/",
     "height": 175
    },
    "id": "CHmWpgQKfNl2",
    "outputId": "4e8bc81d-8882-4c80-d07c-321873abe0c8"
   },
   "outputs": [
    {
     "data": {
      "text/html": [
       "<div>\n",
       "<style scoped>\n",
       "    .dataframe tbody tr th:only-of-type {\n",
       "        vertical-align: middle;\n",
       "    }\n",
       "\n",
       "    .dataframe tbody tr th {\n",
       "        vertical-align: top;\n",
       "    }\n",
       "\n",
       "    .dataframe thead th {\n",
       "        text-align: right;\n",
       "    }\n",
       "</style>\n",
       "<table border=\"1\" class=\"dataframe\">\n",
       "  <thead>\n",
       "    <tr style=\"text-align: right;\">\n",
       "      <th></th>\n",
       "      <th>agegp</th>\n",
       "      <th>alcgp</th>\n",
       "      <th>tobgp</th>\n",
       "      <th>cases_ratio</th>\n",
       "    </tr>\n",
       "  </thead>\n",
       "  <tbody>\n",
       "    <tr>\n",
       "      <th>agegp</th>\n",
       "      <td>1.000000</td>\n",
       "      <td>-0.013670</td>\n",
       "      <td>-0.068779</td>\n",
       "      <td>0.587032</td>\n",
       "    </tr>\n",
       "    <tr>\n",
       "      <th>alcgp</th>\n",
       "      <td>-0.013670</td>\n",
       "      <td>1.000000</td>\n",
       "      <td>-0.045684</td>\n",
       "      <td>0.506651</td>\n",
       "    </tr>\n",
       "    <tr>\n",
       "      <th>tobgp</th>\n",
       "      <td>-0.068779</td>\n",
       "      <td>-0.045684</td>\n",
       "      <td>1.000000</td>\n",
       "      <td>0.050709</td>\n",
       "    </tr>\n",
       "    <tr>\n",
       "      <th>cases_ratio</th>\n",
       "      <td>0.587032</td>\n",
       "      <td>0.506651</td>\n",
       "      <td>0.050709</td>\n",
       "      <td>1.000000</td>\n",
       "    </tr>\n",
       "  </tbody>\n",
       "</table>\n",
       "</div>"
      ],
      "text/plain": [
       "                agegp     alcgp     tobgp  cases_ratio\n",
       "agegp        1.000000 -0.013670 -0.068779     0.587032\n",
       "alcgp       -0.013670  1.000000 -0.045684     0.506651\n",
       "tobgp       -0.068779 -0.045684  1.000000     0.050709\n",
       "cases_ratio  0.587032  0.506651  0.050709     1.000000"
      ]
     },
     "execution_count": 3,
     "metadata": {},
     "output_type": "execute_result"
    }
   ],
   "source": [
    "corr_matrix = df.loc[:,~df.columns.isin(['ncontrols','ncases'])].corr()\n",
    "corr_matrix"
   ]
  },
  {
   "cell_type": "code",
   "execution_count": 12,
   "metadata": {
    "colab": {
     "base_uri": "https://localhost:8080/",
     "height": 452
    },
    "id": "uwThrA0Ghti_",
    "outputId": "d4a053ee-20b0-40da-e943-db19f4826777"
   },
   "outputs": [
    {
     "data": {
      "image/png": "[encoded data removed]",
      "text/plain": [
       "<Figure size 640x480 with 2 Axes>"
      ]
     },
     "metadata": {},
     "output_type": "display_data"
    }
   ],
   "source": [
    "sns.heatmap(corr_matrix, annot=True);"
   ]
  },
  {
   "cell_type": "markdown",
   "metadata": {},
   "source": [
    "**Toliau naudojamas 'esoph' duomenų rinkinys su nepakeistomis kategorijų reikšmėmis. Pavaizduojamos stulepilinės diagramos.**"
   ]
  },
  {
   "cell_type": "code",
   "execution_count": 5,
   "metadata": {
    "colab": {
     "base_uri": "https://localhost:8080/",
     "height": 424
    },
    "id": "hYRWbsvBimM8",
    "outputId": "e85d9491-33c3-40d4-e0ca-c8fb0b70ca49"
   },
   "outputs": [
    {
     "data": {
      "text/html": [
       "<div>\n",
       "<style scoped>\n",
       "    .dataframe tbody tr th:only-of-type {\n",
       "        vertical-align: middle;\n",
       "    }\n",
       "\n",
       "    .dataframe tbody tr th {\n",
       "        vertical-align: top;\n",
       "    }\n",
       "\n",
       "    .dataframe thead th {\n",
       "        text-align: right;\n",
       "    }\n",
       "</style>\n",
       "<table border=\"1\" class=\"dataframe\">\n",
       "  <thead>\n",
       "    <tr style=\"text-align: right;\">\n",
       "      <th></th>\n",
       "      <th>agegp</th>\n",
       "      <th>alcgp</th>\n",
       "      <th>tobgp</th>\n",
       "      <th>ncases</th>\n",
       "      <th>ncontrols</th>\n",
       "      <th>cases_ratio</th>\n",
       "    </tr>\n",
       "  </thead>\n",
       "  <tbody>\n",
       "    <tr>\n",
       "      <th>0</th>\n",
       "      <td>25-34</td>\n",
       "      <td>0-39g/day</td>\n",
       "      <td>0-9g/day</td>\n",
       "      <td>0</td>\n",
       "      <td>40</td>\n",
       "      <td>0.0</td>\n",
       "    </tr>\n",
       "    <tr>\n",
       "      <th>1</th>\n",
       "      <td>25-34</td>\n",
       "      <td>0-39g/day</td>\n",
       "      <td>10-19</td>\n",
       "      <td>0</td>\n",
       "      <td>10</td>\n",
       "      <td>0.0</td>\n",
       "    </tr>\n",
       "    <tr>\n",
       "      <th>2</th>\n",
       "      <td>25-34</td>\n",
       "      <td>0-39g/day</td>\n",
       "      <td>20-29</td>\n",
       "      <td>0</td>\n",
       "      <td>6</td>\n",
       "      <td>0.0</td>\n",
       "    </tr>\n",
       "    <tr>\n",
       "      <th>3</th>\n",
       "      <td>25-34</td>\n",
       "      <td>0-39g/day</td>\n",
       "      <td>30+</td>\n",
       "      <td>0</td>\n",
       "      <td>5</td>\n",
       "      <td>0.0</td>\n",
       "    </tr>\n",
       "    <tr>\n",
       "      <th>4</th>\n",
       "      <td>25-34</td>\n",
       "      <td>40-79</td>\n",
       "      <td>0-9g/day</td>\n",
       "      <td>0</td>\n",
       "      <td>27</td>\n",
       "      <td>0.0</td>\n",
       "    </tr>\n",
       "    <tr>\n",
       "      <th>...</th>\n",
       "      <td>...</td>\n",
       "      <td>...</td>\n",
       "      <td>...</td>\n",
       "      <td>...</td>\n",
       "      <td>...</td>\n",
       "      <td>...</td>\n",
       "    </tr>\n",
       "    <tr>\n",
       "      <th>83</th>\n",
       "      <td>75+</td>\n",
       "      <td>40-79</td>\n",
       "      <td>30+</td>\n",
       "      <td>1</td>\n",
       "      <td>1</td>\n",
       "      <td>50.0</td>\n",
       "    </tr>\n",
       "    <tr>\n",
       "      <th>84</th>\n",
       "      <td>75+</td>\n",
       "      <td>80-119</td>\n",
       "      <td>0-9g/day</td>\n",
       "      <td>1</td>\n",
       "      <td>1</td>\n",
       "      <td>50.0</td>\n",
       "    </tr>\n",
       "    <tr>\n",
       "      <th>85</th>\n",
       "      <td>75+</td>\n",
       "      <td>80-119</td>\n",
       "      <td>10-19</td>\n",
       "      <td>1</td>\n",
       "      <td>1</td>\n",
       "      <td>50.0</td>\n",
       "    </tr>\n",
       "    <tr>\n",
       "      <th>86</th>\n",
       "      <td>75+</td>\n",
       "      <td>120+</td>\n",
       "      <td>0-9g/day</td>\n",
       "      <td>2</td>\n",
       "      <td>2</td>\n",
       "      <td>50.0</td>\n",
       "    </tr>\n",
       "    <tr>\n",
       "      <th>87</th>\n",
       "      <td>75+</td>\n",
       "      <td>120+</td>\n",
       "      <td>10-19</td>\n",
       "      <td>1</td>\n",
       "      <td>1</td>\n",
       "      <td>50.0</td>\n",
       "    </tr>\n",
       "  </tbody>\n",
       "</table>\n",
       "<p>88 rows × 6 columns</p>\n",
       "</div>"
      ],
      "text/plain": [
       "    agegp      alcgp     tobgp  ncases  ncontrols  cases_ratio\n",
       "0   25-34  0-39g/day  0-9g/day       0         40          0.0\n",
       "1   25-34  0-39g/day     10-19       0         10          0.0\n",
       "2   25-34  0-39g/day     20-29       0          6          0.0\n",
       "3   25-34  0-39g/day       30+       0          5          0.0\n",
       "4   25-34      40-79  0-9g/day       0         27          0.0\n",
       "..    ...        ...       ...     ...        ...          ...\n",
       "83    75+      40-79       30+       1          1         50.0\n",
       "84    75+     80-119  0-9g/day       1          1         50.0\n",
       "85    75+     80-119     10-19       1          1         50.0\n",
       "86    75+       120+  0-9g/day       2          2         50.0\n",
       "87    75+       120+     10-19       1          1         50.0\n",
       "\n",
       "[88 rows x 6 columns]"
      ]
     },
     "execution_count": 5,
     "metadata": {},
     "output_type": "execute_result"
    }
   ],
   "source": [
    "df2 = pd.read_csv('esoph_df2.csv')\n",
    "df2"
   ]
  },
  {
   "cell_type": "code",
   "execution_count": 6,
   "metadata": {
    "colab": {
     "base_uri": "https://localhost:8080/",
     "height": 472
    },
    "id": "0Zq7Q9quivwE",
    "outputId": "dcdfb0c9-68ac-4eca-87e1-a16be7569c11"
   },
   "outputs": [
    {
     "data": {
      "image/png": "[encoded data removed]",
      "text/plain": [
       "<Figure size 640x480 with 1 Axes>"
      ]
     },
     "metadata": {},
     "output_type": "display_data"
    }
   ],
   "source": [
    "mean_cases_ratio_by_agegp = df2.groupby('agegp')['cases_ratio'].mean().reset_index()\n",
    "\n",
    "plt.bar(mean_cases_ratio_by_agegp['agegp'], mean_cases_ratio_by_agegp['cases_ratio'],color = \"green\")\n",
    "\n",
    "plt.title(\"Mean Cases Ratio by Age Group\")\n",
    "plt.xlabel(\"Age Group\")\n",
    "plt.ylabel(\"Mean Cases Ratio\")\n",
    "\n",
    "plt.show()"
   ]
  },
  {
   "cell_type": "code",
   "execution_count": 7,
   "metadata": {
    "colab": {
     "base_uri": "https://localhost:8080/",
     "height": 472
    },
    "id": "gT8LK57qj9h6",
    "outputId": "e8078eb7-30dd-449d-d6cb-c85ed866901e"
   },
   "outputs": [
    {
     "data": {
      "image/png": "[encoded data removed]",
      "text/plain": [
       "<Figure size 640x480 with 1 Axes>"
      ]
     },
     "metadata": {},
     "output_type": "display_data"
    }
   ],
   "source": [
    "mean_cases_ratio_by_alcgp = df2.groupby('alcgp')['cases_ratio'].mean().reset_index().sort_values(by = 'cases_ratio')\n",
    "\n",
    "plt.bar(mean_cases_ratio_by_alcgp['alcgp'], mean_cases_ratio_by_alcgp['cases_ratio'],color = \"blue\")\n",
    "\n",
    "plt.title(\"Mean Cases Ratio by Alcohol Group\")\n",
    "plt.xlabel(\"Alcohol Group\")\n",
    "plt.ylabel(\"Mean Cases Ratio\")\n",
    "\n",
    "plt.show()"
   ]
  },
  {
   "cell_type": "code",
   "execution_count": 8,
   "metadata": {
    "colab": {
     "base_uri": "https://localhost:8080/",
     "height": 472
    },
    "id": "Aduzx6izkg-t",
    "outputId": "92b0e094-31c1-4d25-a80d-1597d1c05480"
   },
   "outputs": [
    {
     "data": {
      "image/png": "[encoded data removed]",
      "text/plain": [
       "<Figure size 640x480 with 1 Axes>"
      ]
     },
     "metadata": {},
     "output_type": "display_data"
    }
   ],
   "source": [
    "mean_cases_ratio_by_tobgp = df2.groupby('tobgp')['cases_ratio'].mean().reset_index()\n",
    "\n",
    "plt.bar(mean_cases_ratio_by_tobgp['tobgp'], mean_cases_ratio_by_tobgp['cases_ratio'],color = \"yellow\")\n",
    "\n",
    "plt.title(\"Mean Cases Ratio by Tobaco Group\")\n",
    "plt.xlabel(\"Tobaco Group\")\n",
    "plt.ylabel(\"Mean Cases Ratio\")\n",
    "\n",
    "plt.show()"
   ]
  },
  {
   "cell_type": "markdown",
   "metadata": {
    "id": "zKxuv-cAoS2b"
   },
   "source": [
    "# Papildoma dalis"
   ]
  },
  {
   "cell_type": "markdown",
   "metadata": {},
   "source": [
    "**Remiantis amžiaus, alkoholio ir tobako grupėmis, apmokomas tiesinės regresijos modelis paskaičiuoti vėžio susirgimų santykį.**"
   ]
  },
  {
   "cell_type": "code",
   "execution_count": 9,
   "metadata": {
    "id": "8mepUw14oZz9",
    "scrolled": true
   },
   "outputs": [],
   "source": [
    "X = df[['agegp', 'alcgp','tobgp']]\n",
    "y = df['cases_ratio']\n",
    "\n",
    "X_train, X_test, y_train, y_test = train_test_split(X, y, test_size=0.2,random_state = 0)\n",
    "\n",
    "model = LinearRegression()\n",
    "model.fit(X_train, y_train);\n"
   ]
  },
  {
   "cell_type": "markdown",
   "metadata": {},
   "source": [
    "**Įvertinamas modelio tikslumas**"
   ]
  },
  {
   "cell_type": "code",
   "execution_count": 10,
   "metadata": {
    "colab": {
     "base_uri": "https://localhost:8080/"
    },
    "id": "zpLEiZqlz5OW",
    "outputId": "31671b5f-7da2-4dce-8738-a28f603f8080"
   },
   "outputs": [
    {
     "name": "stdout",
     "output_type": "stream",
     "text": [
      "R^2 score: 0.6310980503621302\n",
      "Coefficient for agegp: 0.6550317157754454\n",
      "Coefficient for alcgp: 0.258778833005511\n",
      "Coefficient for tobgp: 0.21166518388434433\n"
     ]
    }
   ],
   "source": [
    "y_pred = model.predict(X_test)\n",
    "print(f'R^2 score: {r2_score(y_test, y_pred)}')\n",
    "\n",
    "coefficients = model.coef_\n",
    "column_names = X.columns\n",
    "for col_name, coef in zip(column_names, coefficients):\n",
    "    print(f'Coefficient for {col_name}: {coef}')"
   ]
  },
  {
   "cell_type": "markdown",
   "metadata": {},
   "source": [
    "**Pavyzdinis spėjimas, remiantis duotais duomenimis**"
   ]
  },
  {
   "cell_type": "code",
   "execution_count": 11,
   "metadata": {
    "colab": {
     "base_uri": "https://localhost:8080/"
    },
    "id": "7WZw78tGqEzt",
    "outputId": "5625528d-1549-42cf-960f-cfff4a5d59cb"
   },
   "outputs": [
    {
     "name": "stdout",
     "output_type": "stream",
     "text": [
      "[32.662044   20.14162836  7.94459805]\n"
     ]
    }
   ],
   "source": [
    "new_data = pd.DataFrame({'agegp': [80,30,20],\n",
    "                         'alcgp': [50,120,90],\n",
    "                         'tobgp': [20,30,40]})\n",
    "predicted_cases_ratio = model.predict(new_data)\n",
    "print(predicted_cases_ratio)"
   ]
  }
 ],
 "metadata": {
  "colab": {
   "provenance": []
  },
  "kernelspec": {
   "display_name": "Python 3 (ipykernel)",
   "language": "python",
   "name": "python3"
  },
  "language_info": {
   "codemirror_mode": {
    "name": "ipython",
    "version": 3
   },
   "file_extension": ".py",
   "mimetype": "text/x-python",
   "name": "python",
   "nbconvert_exporter": "python",
   "pygments_lexer": "ipython3",
   "version": "3.9.13"
  }
 },
 "nbformat": 4,
 "nbformat_minor": 1
}
