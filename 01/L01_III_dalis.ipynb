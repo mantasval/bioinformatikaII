{
 "cells": [
  {
   "cell_type": "markdown",
   "id": "46f45668",
   "metadata": {},
   "source": [
    "*Mantas Valiulis \\\n",
    "Lab. darbas Nr. 1, III dalis*"
   ]
  },
  {
   "cell_type": "markdown",
   "id": "051ab86e",
   "metadata": {},
   "source": [
    "**GenBank prieigos ID: AM270326**"
   ]
  },
  {
   "cell_type": "markdown",
   "id": "8f1f0d6d",
   "metadata": {},
   "source": [
    "LOCUS       AM270326              132670 bp    DNA     linear   PLN 14-MAR-2015\n",
    "DEFINITION  Aspergillus niger contig An14c0190, genomic contig.\n",
    "ACCESSION   AM270326\n",
    "VERSION     AM270326.1\n",
    "DBLINK      BioSample: SAMEA3283178\n",
    "KEYWORDS    .\n",
    "SOURCE      Aspergillus niger\n",
    "  ORGANISM  Aspergillus niger\n",
    "            Eukaryota; Fungi; Dikarya; Ascomycota; Pezizomycotina;\n",
    "            Eurotiomycetes; Eurotiomycetidae; Eurotiales; Aspergillaceae;\n",
    "            Aspergillus; Aspergillus subgen. Circumdati.\n",
    "REFERENCE   1\n",
    "  AUTHORS   Pel,H.J., de Winde,J.H., Archer,D.B., Dyer,P.S., Hofmann,G.,\n",
    "            Schaap,P.J., Turner,G., de Vries,R.P., Albang,R., Albermann,K.,\n",
    "            Andersen,M.R., Bendtsen,J.D., Benen,J.A., van den Berg,M.,\n",
    "            Breestraat,S., Caddick,M.X., Contreras,R., Cornell,M.,\n",
    "            Coutinho,P.M., Danchin,E.G., Debets,A.J., Dekker,P., van\n",
    "            Dijck,P.W., van Dijk,A., Dijkhuizen,L., Driessen,A.J., d'Enfert,C.,\n",
    "            Geysens,S., Goosen,C., Groot,G.S., de Groot,P.W., Guillemette,T.,\n",
    "            Henrissat,B., Herweijer,M., van den Hombergh,J.P., van den\n",
    "            Hondel,C.A., van der Heijden,R.T., van der Kaaij,R.M., Klis,F.M.,\n",
    "            Kools,H.J., Kubicek,C.P., van Kuyk,P.A., Lauber,J., Lu,X., van der\n",
    "            Maarel,M.J., Meulenberg,R., Menke,H., Mortimer,M.A., Nielsen,J.,\n",
    "            Oliver,S.G., Olsthoorn,M., Pal,K., van Peij,N.N., Ram,A.F.,\n",
    "            Rinas,U., Roubos,J.A., Sagt,C.M., Schmoll,M., Sun,J., Ussery,D.,\n",
    "            Varga,J., Vervecken,W., van de Vondervoort,P.J., Wedler,H.,\n",
    "            Wosten,H.A., Zeng,A.P., van Ooyen,A.J., Visser,J. and Stam,H.\n",
    "  TITLE     Genome sequencing and analysis of the versatile cell factory\n",
    "            Aspergillus niger CBS 513.88\n",
    "  JOURNAL   Nat. Biotechnol. 25 (2), 221-231 (2007)\n",
    "   PUBMED   17259976\n",
    "REFERENCE   2  (bases 1 to 132670)\n",
    "  AUTHORS   Pel,H.J.\n",
    "  TITLE     Direct Submission\n",
    "  JOURNAL   Submitted (01-MAY-2006) Pel H.J., DSM, 624-0295, P.O. Box 1, 2600\n",
    "            MA Delft, THE NETHERLANDS"
   ]
  },
  {
   "cell_type": "markdown",
   "id": "b3d4c2a3",
   "metadata": {},
   "source": [
    "**Locus** - nurodomas GenBank prieigos ID, sekos ilgis, sekos tipas (DNR), linijinė struktūra, šalis ir data"
   ]
  },
  {
   "cell_type": "markdown",
   "id": "cdfe4b1a",
   "metadata": {},
   "source": [
    "**Definition** - nurodomas organizmas ir genetinio rinkinio id."
   ]
  },
  {
   "cell_type": "markdown",
   "id": "6f84a0c9",
   "metadata": {},
   "source": [
    "**Accession** - vėl GenBank Id\\\n",
    "**Version** - vėl GenBank Id, tik dar su versija"
   ]
  },
  {
   "cell_type": "markdown",
   "id": "79b35c90",
   "metadata": {},
   "source": [
    "**DBLINK** - nurodo duomenų bazę ir sekos id."
   ]
  },
  {
   "cell_type": "markdown",
   "id": "7fc28779",
   "metadata": {},
   "source": [
    "**Source** - koks organizmas, jo taksonominė informacija"
   ]
  },
  {
   "cell_type": "markdown",
   "id": "7063ed50",
   "metadata": {},
   "source": [
    "**Reference Authors** - kokiais autoriais rėmėsi, kad gautų šią seką"
   ]
  },
  {
   "cell_type": "markdown",
   "id": "7982fb70",
   "metadata": {},
   "source": [
    "FEATURES             Location/Qualifiers\n",
    "     source          1..132670\n",
    "                     /organism=\"Aspergillus niger\"\n",
    "                     /mol_type=\"genomic DNA\"\n",
    "                     /strain=\"CBS 513.88\"\n",
    "                     /db_xref=\"taxon:5061\"\n",
    "                     /clone=\"An14c0190\"\n",
    "     gene            <53..>1338\n",
    "                     /locus_tag=\"An14g06080\"\n",
    "     mRNA            join(<53..167,248..583,681..774,860..995,1060..1111,\n",
    "                     1223..>1338)\n",
    "                     /locus_tag=\"An14g06080\"\n",
    "     CDS             join(53..167,248..583,681..774,860..995,1060..1111,\n",
    "                     1223..1338)\n",
    "                     /locus_tag=\"An14g06080\"\n",
    "                     /codon_start=1\n",
    "                     /product=\"hypothetical protein\"\n",
    "                     /protein_id=\"CAK97181.1\"\n",
    "                     /db_xref=\"GOA:A2R401\"\n",
    "                     /db_xref=\"UniProtKB/TrEMBL:A2R401\"\n",
    "                     /translation=\"MRLKFRPRDRHAAGRSRICRGLVACAEVAYFSRQGGREDRLLFT\n",
    "                     VVLCCCCGFVYQFGVHSAGDILAFYGSGPKCNQGPNICINFGTKVHGALVCTIPYRLQ\n",
    "                     RNRKAYSRRKATPAEKRKKLKIRARPSRHGTVYSRSSAPRARDGENSAGESASVGTVR\n",
    "                     EIVLSPPCRVAYIEVSICQYDRTLSPQSIYAFEPLTPSGALSAAPGLAPAPGRVYPMV\n",
    "                     VNAMQVVAQDALEYCDSSRPDRLTPPRATEIATFPVADCVGVLTPGKAEFLLGDSLGT\n",
    "                     GPTDLN\"\n",
    "     exon            53..167\n",
    "                     /locus_tag=\"An14g06080\"\n",
    "                     /number=1\n",
    "     intron          168..247\n",
    "                     /locus_tag=\"An14g06080\"\n",
    "                     /number=1\n",
    "     exon            248..583\n",
    "                     /locus_tag=\"An14g06080\"\n",
    "                     /number=2\n",
    "     intron          584..680\n",
    "                     /locus_tag=\"An14g06080\"\n",
    "                     /number=2\n",
    "     exon            681..774\n",
    "                     /locus_tag=\"An14g06080\""
   ]
  },
  {
   "cell_type": "markdown",
   "id": "3bc33bec",
   "metadata": {},
   "source": [
    "**Features** - bendrai visa informacija apie seką, jos genai, intronai, egzonai, iRNR, koduojanti dalis"
   ]
  },
  {
   "cell_type": "markdown",
   "id": "ef5e6d79",
   "metadata": {},
   "source": [
    "- Source: sekos pradžia ir pabaiga, organimzas, molekulės tipas,...\n",
    "- gene: nurodoma geno pradžia ir pabaiga, lokuso tagas\n",
    "- mRNA: iRNR, kuri sudaryta iš kelių dalių\n",
    "- CDS: koduojanti geno dalis (egzonai), sudaryta iš kelių dalių\n",
    "- exon: atskiras egzonas, jo pradžia ir pabaiga, tagas, eilės nr.\n",
    "- intron: atskiras egzonas, jo pradžia ir pabaiga, tagas, eilės nr."
   ]
  },
  {
   "cell_type": "code",
   "execution_count": 4,
   "id": "25e56f82",
   "metadata": {},
   "outputs": [
    {
     "name": "stdout",
     "output_type": "stream",
     "text": [
      "Defaulting to user installation because normal site-packages is not writeable\n",
      "Requirement already satisfied: biopython in c:\\users\\manta\\appdata\\roaming\\python\\python39\\site-packages (1.81)\n",
      "Requirement already satisfied: numpy in c:\\programdata\\anaconda3\\lib\\site-packages (from biopython) (1.21.5)\n",
      "Note: you may need to restart the kernel to use updated packages.\n"
     ]
    }
   ],
   "source": [
    "%pip install biopython;"
   ]
  },
  {
   "cell_type": "code",
   "execution_count": 1,
   "id": "eaad423d",
   "metadata": {},
   "outputs": [],
   "source": [
    "from Bio import Entrez, SeqIO\n",
    "from Bio.Align import PairwiseAligner\n",
    "import numpy as np\n",
    "import pandas as pd\n",
    "import random\n",
    "import matplotlib.pyplot as plt\n",
    "import seaborn as sns"
   ]
  },
  {
   "cell_type": "markdown",
   "id": "e95ba7e6",
   "metadata": {},
   "source": [
    "**Entrez naudojimo pavyzdžiai**"
   ]
  },
  {
   "cell_type": "markdown",
   "id": "eae199e1",
   "metadata": {},
   "source": [
    "Pvz. nr.1\\\n",
    "Gauti seką pagal id"
   ]
  },
  {
   "cell_type": "code",
   "execution_count": 37,
   "id": "43027980",
   "metadata": {},
   "outputs": [
    {
     "data": {
      "text/plain": [
       "Seq('AGAGTAAGCCAGGTATCAAATTCTAATGGGTATTGTGTGAAAGGATGCGGAAAT...AAT')"
      ]
     },
     "execution_count": 37,
     "metadata": {},
     "output_type": "execute_result"
    }
   ],
   "source": [
    "Entrez.email = \"mantasval1223@gmail.com\"\n",
    "genbank_id = \"AM270326\"\n",
    "handle = Entrez.efetch(db=\"nucleotide\", id=genome_id, rettype=\"gb\", retmode=\"text\")\n",
    "record = SeqIO.read(handle, \"gb\");\n",
    "record.seq"
   ]
  },
  {
   "cell_type": "markdown",
   "id": "c870894c",
   "metadata": {},
   "source": [
    "Pvz nr.2\\\n",
    "Gauti sekos autorius"
   ]
  },
  {
   "cell_type": "code",
   "execution_count": 35,
   "id": "2d8c072a",
   "metadata": {},
   "outputs": [
    {
     "data": {
      "text/plain": [
       "\"Pel,H.J., de Winde,J.H., Archer,D.B., Dyer,P.S., Hofmann,G., Schaap,P.J., Turner,G., de Vries,R.P., Albang,R., Albermann,K., Andersen,M.R., Bendtsen,J.D., Benen,J.A., van den Berg,M., Breestraat,S., Caddick,M.X., Contreras,R., Cornell,M., Coutinho,P.M., Danchin,E.G., Debets,A.J., Dekker,P., van Dijck,P.W., van Dijk,A., Dijkhuizen,L., Driessen,A.J., d'Enfert,C., Geysens,S., Goosen,C., Groot,G.S., de Groot,P.W., Guillemette,T., Henrissat,B., Herweijer,M., van den Hombergh,J.P., van den Hondel,C.A., van der Heijden,R.T., van der Kaaij,R.M., Klis,F.M., Kools,H.J., Kubicek,C.P., van Kuyk,P.A., Lauber,J., Lu,X., van der Maarel,M.J., Meulenberg,R., Menke,H., Mortimer,M.A., Nielsen,J., Oliver,S.G., Olsthoorn,M., Pal,K., van Peij,N.N., Ram,A.F., Rinas,U., Roubos,J.A., Sagt,C.M., Schmoll,M., Sun,J., Ussery,D., Varga,J., Vervecken,W., van de Vondervoort,P.J., Wedler,H., Wosten,H.A., Zeng,A.P., van Ooyen,A.J., Visser,J. and Stam,H.\""
      ]
     },
     "execution_count": 35,
     "metadata": {},
     "output_type": "execute_result"
    }
   ],
   "source": [
    "record.annotations['references'][0].authors"
   ]
  },
  {
   "cell_type": "markdown",
   "id": "c794f839",
   "metadata": {},
   "source": [
    "Pvz. nr.3\\\n",
    "Iš sekos gauti organizmo rūšį ir pagal ją atlikti paiešką"
   ]
  },
  {
   "cell_type": "code",
   "execution_count": 48,
   "id": "45b55b20",
   "metadata": {},
   "outputs": [
    {
     "name": "stdout",
     "output_type": "stream",
     "text": [
      "Aspergillus niger\n"
     ]
    }
   ],
   "source": [
    "organism = record.annotations['source']\n",
    "print(organism)\n",
    "handle = Entrez.esearch(db=\"nucleotide\", term=organism)\n",
    "record_ids = Entrez.read(handle)['IdList']"
   ]
  },
  {
   "cell_type": "code",
   "execution_count": 73,
   "id": "c9e1944e",
   "metadata": {},
   "outputs": [],
   "source": [
    "authors_l = []\n",
    "for id in record_ids:\n",
    "    handle = Entrez.efetch(db=\"nucleotide\", id=id, rettype=\"gb\", retmode=\"text\")\n",
    "    record = SeqIO.read(handle, \"gb\");\n",
    "    for reference in record.annotations['references']:\n",
    "        authors_l.extend(reference.authors.split())"
   ]
  },
  {
   "cell_type": "code",
   "execution_count": 91,
   "id": "ac85d443",
   "metadata": {},
   "outputs": [
    {
     "data": {
      "text/plain": [
       "['AlDhaheri,F.',\n",
       " 'Ghazawi,A.,',\n",
       " 'Jeong,Y.,',\n",
       " 'Khan,M.',\n",
       " 'Kim,G.,',\n",
       " 'Kim,J.,',\n",
       " 'Park,G.,',\n",
       " 'Sen,P.,',\n",
       " 'Shin,H.',\n",
       " 'Song,Y.',\n",
       " 'Vanam,H.P.,',\n",
       " 'Vijay,M.',\n",
       " 'Vijayaraghavan,P.']"
      ]
     },
     "execution_count": 91,
     "metadata": {},
     "output_type": "execute_result"
    }
   ],
   "source": [
    "authors_s = set(authors_l)\n",
    "authors_s.remove('and')\n",
    "authors_final = list(authors)\n",
    "authors_final.sort()\n",
    "authors_final"
   ]
  },
  {
   "cell_type": "code",
   "execution_count": null,
   "id": "840444dd",
   "metadata": {},
   "outputs": [],
   "source": []
  }
 ],
 "metadata": {
  "kernelspec": {
   "display_name": "Python 3 (ipykernel)",
   "language": "python",
   "name": "python3"
  },
  "language_info": {
   "codemirror_mode": {
    "name": "ipython",
    "version": 3
   },
   "file_extension": ".py",
   "mimetype": "text/x-python",
   "name": "python",
   "nbconvert_exporter": "python",
   "pygments_lexer": "ipython3",
   "version": "3.9.13"
  }
 },
 "nbformat": 4,
 "nbformat_minor": 5
}
